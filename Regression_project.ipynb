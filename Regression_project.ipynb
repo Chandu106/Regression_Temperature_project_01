{
  "nbformat": 4,
  "nbformat_minor": 0,
  "metadata": {
    "colab": {
      "provenance": [],
      "collapsed_sections": [],
      "authorship_tag": "ABX9TyPih6kmMDsKkGZLyTBzi5Dg",
      "include_colab_link": true
    },
    "kernelspec": {
      "name": "python3",
      "display_name": "Python 3"
    },
    "language_info": {
      "name": "python"
    },
    "accelerator": "GPU",
    "gpuClass": "standard"
  },
  "cells": [
    {
      "cell_type": "markdown",
      "metadata": {
        "id": "view-in-github",
        "colab_type": "text"
      },
      "source": [
        "<a href=\"https://colab.research.google.com/github/Chandu106/Regression_project_01/blob/main/Regression_project.ipynb\" target=\"_parent\"><img src=\"https://colab.research.google.com/assets/colab-badge.svg\" alt=\"Open In Colab\"/></a>"
      ]
    },
    {
      "cell_type": "code",
      "execution_count": null,
      "metadata": {
        "id": "u9DIRgNR0D4p"
      },
      "outputs": [],
      "source": [
        "import tensorflow as tf\n",
        "import numpy as np\n",
        "import matplotlib.pyplot as plt\n",
        "import pandas as pd\n"
      ]
    },
    {
      "cell_type": "code",
      "source": [
        "project01 = pd.read_csv(\"https://raw.githubusercontent.com/Chandu106/Regression_project_01/main/required_data_project_01.csv\")"
      ],
      "metadata": {
        "id": "B344Xmh6B-WY"
      },
      "execution_count": null,
      "outputs": []
    },
    {
      "cell_type": "code",
      "source": [
        "project01.head()"
      ],
      "metadata": {
        "colab": {
          "base_uri": "https://localhost:8080/",
          "height": 206
        },
        "id": "9eWbCQkXDN6K",
        "outputId": "ae247f38-f266-49bb-d704-eb4b94beddda"
      },
      "execution_count": null,
      "outputs": [
        {
          "output_type": "execute_result",
          "data": {
            "text/plain": [
              "   latitude  altitude  precipitation  humidity  windspeed  temperature\n",
              "0   34.1526    3500.0          102.0      70.0        1.4          5.0\n",
              "1   34.5539    2676.0          327.0      76.0        5.0          7.5\n",
              "2   34.3201    2987.0           76.2      54.0       11.3          3.0\n",
              "3   32.9681    4595.0           76.2      70.0        8.8         -0.5\n",
              "4   34.0837    1585.0          720.0      73.0        4.8         10.8"
            ],
            "text/html": [
              "\n",
              "  <div id=\"df-ee33252c-9a81-49a2-838c-212c63bb4f60\">\n",
              "    <div class=\"colab-df-container\">\n",
              "      <div>\n",
              "<style scoped>\n",
              "    .dataframe tbody tr th:only-of-type {\n",
              "        vertical-align: middle;\n",
              "    }\n",
              "\n",
              "    .dataframe tbody tr th {\n",
              "        vertical-align: top;\n",
              "    }\n",
              "\n",
              "    .dataframe thead th {\n",
              "        text-align: right;\n",
              "    }\n",
              "</style>\n",
              "<table border=\"1\" class=\"dataframe\">\n",
              "  <thead>\n",
              "    <tr style=\"text-align: right;\">\n",
              "      <th></th>\n",
              "      <th>latitude</th>\n",
              "      <th>altitude</th>\n",
              "      <th>precipitation</th>\n",
              "      <th>humidity</th>\n",
              "      <th>windspeed</th>\n",
              "      <th>temperature</th>\n",
              "    </tr>\n",
              "  </thead>\n",
              "  <tbody>\n",
              "    <tr>\n",
              "      <th>0</th>\n",
              "      <td>34.1526</td>\n",
              "      <td>3500.0</td>\n",
              "      <td>102.0</td>\n",
              "      <td>70.0</td>\n",
              "      <td>1.4</td>\n",
              "      <td>5.0</td>\n",
              "    </tr>\n",
              "    <tr>\n",
              "      <th>1</th>\n",
              "      <td>34.5539</td>\n",
              "      <td>2676.0</td>\n",
              "      <td>327.0</td>\n",
              "      <td>76.0</td>\n",
              "      <td>5.0</td>\n",
              "      <td>7.5</td>\n",
              "    </tr>\n",
              "    <tr>\n",
              "      <th>2</th>\n",
              "      <td>34.3201</td>\n",
              "      <td>2987.0</td>\n",
              "      <td>76.2</td>\n",
              "      <td>54.0</td>\n",
              "      <td>11.3</td>\n",
              "      <td>3.0</td>\n",
              "    </tr>\n",
              "    <tr>\n",
              "      <th>3</th>\n",
              "      <td>32.9681</td>\n",
              "      <td>4595.0</td>\n",
              "      <td>76.2</td>\n",
              "      <td>70.0</td>\n",
              "      <td>8.8</td>\n",
              "      <td>-0.5</td>\n",
              "    </tr>\n",
              "    <tr>\n",
              "      <th>4</th>\n",
              "      <td>34.0837</td>\n",
              "      <td>1585.0</td>\n",
              "      <td>720.0</td>\n",
              "      <td>73.0</td>\n",
              "      <td>4.8</td>\n",
              "      <td>10.8</td>\n",
              "    </tr>\n",
              "  </tbody>\n",
              "</table>\n",
              "</div>\n",
              "      <button class=\"colab-df-convert\" onclick=\"convertToInteractive('df-ee33252c-9a81-49a2-838c-212c63bb4f60')\"\n",
              "              title=\"Convert this dataframe to an interactive table.\"\n",
              "              style=\"display:none;\">\n",
              "        \n",
              "  <svg xmlns=\"http://www.w3.org/2000/svg\" height=\"24px\"viewBox=\"0 0 24 24\"\n",
              "       width=\"24px\">\n",
              "    <path d=\"M0 0h24v24H0V0z\" fill=\"none\"/>\n",
              "    <path d=\"M18.56 5.44l.94 2.06.94-2.06 2.06-.94-2.06-.94-.94-2.06-.94 2.06-2.06.94zm-11 1L8.5 8.5l.94-2.06 2.06-.94-2.06-.94L8.5 2.5l-.94 2.06-2.06.94zm10 10l.94 2.06.94-2.06 2.06-.94-2.06-.94-.94-2.06-.94 2.06-2.06.94z\"/><path d=\"M17.41 7.96l-1.37-1.37c-.4-.4-.92-.59-1.43-.59-.52 0-1.04.2-1.43.59L10.3 9.45l-7.72 7.72c-.78.78-.78 2.05 0 2.83L4 21.41c.39.39.9.59 1.41.59.51 0 1.02-.2 1.41-.59l7.78-7.78 2.81-2.81c.8-.78.8-2.07 0-2.86zM5.41 20L4 18.59l7.72-7.72 1.47 1.35L5.41 20z\"/>\n",
              "  </svg>\n",
              "      </button>\n",
              "      \n",
              "  <style>\n",
              "    .colab-df-container {\n",
              "      display:flex;\n",
              "      flex-wrap:wrap;\n",
              "      gap: 12px;\n",
              "    }\n",
              "\n",
              "    .colab-df-convert {\n",
              "      background-color: #E8F0FE;\n",
              "      border: none;\n",
              "      border-radius: 50%;\n",
              "      cursor: pointer;\n",
              "      display: none;\n",
              "      fill: #1967D2;\n",
              "      height: 32px;\n",
              "      padding: 0 0 0 0;\n",
              "      width: 32px;\n",
              "    }\n",
              "\n",
              "    .colab-df-convert:hover {\n",
              "      background-color: #E2EBFA;\n",
              "      box-shadow: 0px 1px 2px rgba(60, 64, 67, 0.3), 0px 1px 3px 1px rgba(60, 64, 67, 0.15);\n",
              "      fill: #174EA6;\n",
              "    }\n",
              "\n",
              "    [theme=dark] .colab-df-convert {\n",
              "      background-color: #3B4455;\n",
              "      fill: #D2E3FC;\n",
              "    }\n",
              "\n",
              "    [theme=dark] .colab-df-convert:hover {\n",
              "      background-color: #434B5C;\n",
              "      box-shadow: 0px 1px 3px 1px rgba(0, 0, 0, 0.15);\n",
              "      filter: drop-shadow(0px 1px 2px rgba(0, 0, 0, 0.3));\n",
              "      fill: #FFFFFF;\n",
              "    }\n",
              "  </style>\n",
              "\n",
              "      <script>\n",
              "        const buttonEl =\n",
              "          document.querySelector('#df-ee33252c-9a81-49a2-838c-212c63bb4f60 button.colab-df-convert');\n",
              "        buttonEl.style.display =\n",
              "          google.colab.kernel.accessAllowed ? 'block' : 'none';\n",
              "\n",
              "        async function convertToInteractive(key) {\n",
              "          const element = document.querySelector('#df-ee33252c-9a81-49a2-838c-212c63bb4f60');\n",
              "          const dataTable =\n",
              "            await google.colab.kernel.invokeFunction('convertToInteractive',\n",
              "                                                     [key], {});\n",
              "          if (!dataTable) return;\n",
              "\n",
              "          const docLinkHtml = 'Like what you see? Visit the ' +\n",
              "            '<a target=\"_blank\" href=https://colab.research.google.com/notebooks/data_table.ipynb>data table notebook</a>'\n",
              "            + ' to learn more about interactive tables.';\n",
              "          element.innerHTML = '';\n",
              "          dataTable['output_type'] = 'display_data';\n",
              "          await google.colab.output.renderOutput(dataTable, element);\n",
              "          const docLink = document.createElement('div');\n",
              "          docLink.innerHTML = docLinkHtml;\n",
              "          element.appendChild(docLink);\n",
              "        }\n",
              "      </script>\n",
              "    </div>\n",
              "  </div>\n",
              "  "
            ]
          },
          "metadata": {},
          "execution_count": 193
        }
      ]
    },
    {
      "cell_type": "code",
      "source": [
        "X = project01.drop(\"temperature\", axis = 1) #features of the data\n",
        "y = project01[\"temperature\"] #labels of the dataX"
      ],
      "metadata": {
        "id": "myzqV6eQDZ-u"
      },
      "execution_count": null,
      "outputs": []
    },
    {
      "cell_type": "code",
      "source": [
        "X.head()"
      ],
      "metadata": {
        "colab": {
          "base_uri": "https://localhost:8080/",
          "height": 206
        },
        "id": "R0IJZlWZEuVY",
        "outputId": "0fb117c9-2ab9-4f3b-a54c-8e0dbf65303d"
      },
      "execution_count": null,
      "outputs": [
        {
          "output_type": "execute_result",
          "data": {
            "text/plain": [
              "   latitude  altitude  precipitation  humidity  windspeed\n",
              "0   34.1526    3500.0          102.0      70.0        1.4\n",
              "1   34.5539    2676.0          327.0      76.0        5.0\n",
              "2   34.3201    2987.0           76.2      54.0       11.3\n",
              "3   32.9681    4595.0           76.2      70.0        8.8\n",
              "4   34.0837    1585.0          720.0      73.0        4.8"
            ],
            "text/html": [
              "\n",
              "  <div id=\"df-53a35320-22c7-44a6-b8f8-33c090ed7d9b\">\n",
              "    <div class=\"colab-df-container\">\n",
              "      <div>\n",
              "<style scoped>\n",
              "    .dataframe tbody tr th:only-of-type {\n",
              "        vertical-align: middle;\n",
              "    }\n",
              "\n",
              "    .dataframe tbody tr th {\n",
              "        vertical-align: top;\n",
              "    }\n",
              "\n",
              "    .dataframe thead th {\n",
              "        text-align: right;\n",
              "    }\n",
              "</style>\n",
              "<table border=\"1\" class=\"dataframe\">\n",
              "  <thead>\n",
              "    <tr style=\"text-align: right;\">\n",
              "      <th></th>\n",
              "      <th>latitude</th>\n",
              "      <th>altitude</th>\n",
              "      <th>precipitation</th>\n",
              "      <th>humidity</th>\n",
              "      <th>windspeed</th>\n",
              "    </tr>\n",
              "  </thead>\n",
              "  <tbody>\n",
              "    <tr>\n",
              "      <th>0</th>\n",
              "      <td>34.1526</td>\n",
              "      <td>3500.0</td>\n",
              "      <td>102.0</td>\n",
              "      <td>70.0</td>\n",
              "      <td>1.4</td>\n",
              "    </tr>\n",
              "    <tr>\n",
              "      <th>1</th>\n",
              "      <td>34.5539</td>\n",
              "      <td>2676.0</td>\n",
              "      <td>327.0</td>\n",
              "      <td>76.0</td>\n",
              "      <td>5.0</td>\n",
              "    </tr>\n",
              "    <tr>\n",
              "      <th>2</th>\n",
              "      <td>34.3201</td>\n",
              "      <td>2987.0</td>\n",
              "      <td>76.2</td>\n",
              "      <td>54.0</td>\n",
              "      <td>11.3</td>\n",
              "    </tr>\n",
              "    <tr>\n",
              "      <th>3</th>\n",
              "      <td>32.9681</td>\n",
              "      <td>4595.0</td>\n",
              "      <td>76.2</td>\n",
              "      <td>70.0</td>\n",
              "      <td>8.8</td>\n",
              "    </tr>\n",
              "    <tr>\n",
              "      <th>4</th>\n",
              "      <td>34.0837</td>\n",
              "      <td>1585.0</td>\n",
              "      <td>720.0</td>\n",
              "      <td>73.0</td>\n",
              "      <td>4.8</td>\n",
              "    </tr>\n",
              "  </tbody>\n",
              "</table>\n",
              "</div>\n",
              "      <button class=\"colab-df-convert\" onclick=\"convertToInteractive('df-53a35320-22c7-44a6-b8f8-33c090ed7d9b')\"\n",
              "              title=\"Convert this dataframe to an interactive table.\"\n",
              "              style=\"display:none;\">\n",
              "        \n",
              "  <svg xmlns=\"http://www.w3.org/2000/svg\" height=\"24px\"viewBox=\"0 0 24 24\"\n",
              "       width=\"24px\">\n",
              "    <path d=\"M0 0h24v24H0V0z\" fill=\"none\"/>\n",
              "    <path d=\"M18.56 5.44l.94 2.06.94-2.06 2.06-.94-2.06-.94-.94-2.06-.94 2.06-2.06.94zm-11 1L8.5 8.5l.94-2.06 2.06-.94-2.06-.94L8.5 2.5l-.94 2.06-2.06.94zm10 10l.94 2.06.94-2.06 2.06-.94-2.06-.94-.94-2.06-.94 2.06-2.06.94z\"/><path d=\"M17.41 7.96l-1.37-1.37c-.4-.4-.92-.59-1.43-.59-.52 0-1.04.2-1.43.59L10.3 9.45l-7.72 7.72c-.78.78-.78 2.05 0 2.83L4 21.41c.39.39.9.59 1.41.59.51 0 1.02-.2 1.41-.59l7.78-7.78 2.81-2.81c.8-.78.8-2.07 0-2.86zM5.41 20L4 18.59l7.72-7.72 1.47 1.35L5.41 20z\"/>\n",
              "  </svg>\n",
              "      </button>\n",
              "      \n",
              "  <style>\n",
              "    .colab-df-container {\n",
              "      display:flex;\n",
              "      flex-wrap:wrap;\n",
              "      gap: 12px;\n",
              "    }\n",
              "\n",
              "    .colab-df-convert {\n",
              "      background-color: #E8F0FE;\n",
              "      border: none;\n",
              "      border-radius: 50%;\n",
              "      cursor: pointer;\n",
              "      display: none;\n",
              "      fill: #1967D2;\n",
              "      height: 32px;\n",
              "      padding: 0 0 0 0;\n",
              "      width: 32px;\n",
              "    }\n",
              "\n",
              "    .colab-df-convert:hover {\n",
              "      background-color: #E2EBFA;\n",
              "      box-shadow: 0px 1px 2px rgba(60, 64, 67, 0.3), 0px 1px 3px 1px rgba(60, 64, 67, 0.15);\n",
              "      fill: #174EA6;\n",
              "    }\n",
              "\n",
              "    [theme=dark] .colab-df-convert {\n",
              "      background-color: #3B4455;\n",
              "      fill: #D2E3FC;\n",
              "    }\n",
              "\n",
              "    [theme=dark] .colab-df-convert:hover {\n",
              "      background-color: #434B5C;\n",
              "      box-shadow: 0px 1px 3px 1px rgba(0, 0, 0, 0.15);\n",
              "      filter: drop-shadow(0px 1px 2px rgba(0, 0, 0, 0.3));\n",
              "      fill: #FFFFFF;\n",
              "    }\n",
              "  </style>\n",
              "\n",
              "      <script>\n",
              "        const buttonEl =\n",
              "          document.querySelector('#df-53a35320-22c7-44a6-b8f8-33c090ed7d9b button.colab-df-convert');\n",
              "        buttonEl.style.display =\n",
              "          google.colab.kernel.accessAllowed ? 'block' : 'none';\n",
              "\n",
              "        async function convertToInteractive(key) {\n",
              "          const element = document.querySelector('#df-53a35320-22c7-44a6-b8f8-33c090ed7d9b');\n",
              "          const dataTable =\n",
              "            await google.colab.kernel.invokeFunction('convertToInteractive',\n",
              "                                                     [key], {});\n",
              "          if (!dataTable) return;\n",
              "\n",
              "          const docLinkHtml = 'Like what you see? Visit the ' +\n",
              "            '<a target=\"_blank\" href=https://colab.research.google.com/notebooks/data_table.ipynb>data table notebook</a>'\n",
              "            + ' to learn more about interactive tables.';\n",
              "          element.innerHTML = '';\n",
              "          dataTable['output_type'] = 'display_data';\n",
              "          await google.colab.output.renderOutput(dataTable, element);\n",
              "          const docLink = document.createElement('div');\n",
              "          docLink.innerHTML = docLinkHtml;\n",
              "          element.appendChild(docLink);\n",
              "        }\n",
              "      </script>\n",
              "    </div>\n",
              "  </div>\n",
              "  "
            ]
          },
          "metadata": {},
          "execution_count": 195
        }
      ]
    },
    {
      "cell_type": "code",
      "source": [
        "y.head()"
      ],
      "metadata": {
        "colab": {
          "base_uri": "https://localhost:8080/"
        },
        "id": "8OmwcNMxE2_b",
        "outputId": "562e2704-7bcb-4438-c2dd-fb9fab901208"
      },
      "execution_count": null,
      "outputs": [
        {
          "output_type": "execute_result",
          "data": {
            "text/plain": [
              "0     5.0\n",
              "1     7.5\n",
              "2     3.0\n",
              "3    -0.5\n",
              "4    10.8\n",
              "Name: temperature, dtype: float64"
            ]
          },
          "metadata": {},
          "execution_count": 196
        }
      ]
    },
    {
      "cell_type": "code",
      "source": [
        "# splitting our data as training and testing to train our model\n",
        "\n",
        "from sklearn.model_selection import train_test_split\n",
        "X_train , X_test , y_train , y_test = train_test_split(X,\n",
        "                                                       y,\n",
        "                                                       test_size=0.2,\n",
        "                                                       random_state=42)"
      ],
      "metadata": {
        "id": "ctOFM6O8E5PJ"
      },
      "execution_count": null,
      "outputs": []
    },
    {
      "cell_type": "code",
      "source": [],
      "metadata": {
        "id": "3yni9n8Kv9Z1"
      },
      "execution_count": null,
      "outputs": []
    },
    {
      "cell_type": "code",
      "source": [
        "len(X) , len(X_train) , len(X_test)\n",
        "len(y) , len(y_train) , len(y_test)"
      ],
      "metadata": {
        "colab": {
          "base_uri": "https://localhost:8080/"
        },
        "id": "FM7Z41vwF2Qb",
        "outputId": "62f73114-3319-483a-878c-da21e45aadf3"
      },
      "execution_count": null,
      "outputs": [
        {
          "output_type": "execute_result",
          "data": {
            "text/plain": [
              "(116, 92, 24)"
            ]
          },
          "metadata": {},
          "execution_count": 198
        }
      ]
    },
    {
      "cell_type": "markdown",
      "source": [
        "#Modelling"
      ],
      "metadata": {
        "id": "OrwZKzgvGPQS"
      }
    },
    {
      "cell_type": "markdown",
      "source": [
        "###Building our first model without normaliztion of the values"
      ],
      "metadata": {
        "id": "-nc2WU2FHaWi"
      }
    },
    {
      "cell_type": "markdown",
      "source": [
        "###model_01"
      ],
      "metadata": {
        "id": "pLuMuG-2MVY8"
      }
    },
    {
      "cell_type": "code",
      "source": [
        "# All the training and testing data is ready we have to build a model\n",
        "\n",
        "# set random seed \n",
        "tf.random.set_seed(42)\n",
        "\n",
        "#creating the model\n",
        "model_01 = tf.keras.Sequential([\n",
        "    tf.keras.layers.Dense(1),\n",
        "    tf.keras.layers.Dense(1)\n",
        "])\n",
        "\n",
        "#compiling the model \n",
        "model_01.compile(loss = tf.keras.losses.mae,\n",
        "                 optimizer = tf.keras.optimizers.SGD(),\n",
        "                 metrics = [\"mae\"])\n",
        "\n",
        "#fit the model \n",
        "\n",
        "model_01.fit(X_train , y_train , epochs = 100)\n"
      ],
      "metadata": {
        "colab": {
          "base_uri": "https://localhost:8080/"
        },
        "id": "62LyLN-qHidu",
        "outputId": "add15f99-6a76-4e22-f506-3fcc381de707"
      },
      "execution_count": null,
      "outputs": [
        {
          "output_type": "stream",
          "name": "stdout",
          "text": [
            "Epoch 1/100\n",
            "3/3 [==============================] - 0s 5ms/step - loss: 730006.6875 - mae: 730006.6250\n",
            "Epoch 2/100\n",
            "3/3 [==============================] - 0s 4ms/step - loss: 528469491712.0000 - mae: 528469491712.0000\n",
            "Epoch 3/100\n",
            "3/3 [==============================] - 0s 5ms/step - loss: 50971507932790784.0000 - mae: 50971507932790784.0000\n",
            "Epoch 4/100\n",
            "3/3 [==============================] - 0s 4ms/step - loss: 55723722736598507323392.0000 - mae: 55723722736598507323392.0000\n",
            "Epoch 5/100\n",
            "3/3 [==============================] - 0s 5ms/step - loss: 558568307801556968165070602240.0000 - mae: 558568307801556968165070602240.0000\n",
            "Epoch 6/100\n",
            "3/3 [==============================] - 0s 5ms/step - loss: 287732264170713052157688417697660928.0000 - mae: 287732264170713052157688417697660928.0000\n",
            "Epoch 7/100\n",
            "3/3 [==============================] - 0s 4ms/step - loss: inf - mae: inf\n",
            "Epoch 8/100\n",
            "3/3 [==============================] - 0s 4ms/step - loss: inf - mae: inf\n",
            "Epoch 9/100\n",
            "3/3 [==============================] - 0s 5ms/step - loss: inf - mae: inf\n",
            "Epoch 10/100\n",
            "3/3 [==============================] - 0s 4ms/step - loss: inf - mae: inf\n",
            "Epoch 11/100\n",
            "3/3 [==============================] - 0s 5ms/step - loss: inf - mae: inf\n",
            "Epoch 12/100\n",
            "3/3 [==============================] - 0s 4ms/step - loss: inf - mae: inf\n",
            "Epoch 13/100\n",
            "3/3 [==============================] - 0s 4ms/step - loss: nan - mae: nan\n",
            "Epoch 14/100\n",
            "3/3 [==============================] - 0s 4ms/step - loss: nan - mae: nan\n",
            "Epoch 15/100\n",
            "3/3 [==============================] - 0s 4ms/step - loss: nan - mae: nan\n",
            "Epoch 16/100\n",
            "3/3 [==============================] - 0s 5ms/step - loss: nan - mae: nan\n",
            "Epoch 17/100\n",
            "3/3 [==============================] - 0s 4ms/step - loss: nan - mae: nan\n",
            "Epoch 18/100\n",
            "3/3 [==============================] - 0s 4ms/step - loss: nan - mae: nan\n",
            "Epoch 19/100\n",
            "3/3 [==============================] - 0s 5ms/step - loss: nan - mae: nan\n",
            "Epoch 20/100\n",
            "3/3 [==============================] - 0s 9ms/step - loss: nan - mae: nan\n",
            "Epoch 21/100\n",
            "3/3 [==============================] - 0s 4ms/step - loss: nan - mae: nan\n",
            "Epoch 22/100\n",
            "3/3 [==============================] - 0s 5ms/step - loss: nan - mae: nan\n",
            "Epoch 23/100\n",
            "3/3 [==============================] - 0s 5ms/step - loss: nan - mae: nan\n",
            "Epoch 24/100\n",
            "3/3 [==============================] - 0s 4ms/step - loss: nan - mae: nan\n",
            "Epoch 25/100\n",
            "3/3 [==============================] - 0s 5ms/step - loss: nan - mae: nan\n",
            "Epoch 26/100\n",
            "3/3 [==============================] - 0s 5ms/step - loss: nan - mae: nan\n",
            "Epoch 27/100\n",
            "3/3 [==============================] - 0s 5ms/step - loss: nan - mae: nan\n",
            "Epoch 28/100\n",
            "3/3 [==============================] - 0s 5ms/step - loss: nan - mae: nan\n",
            "Epoch 29/100\n",
            "3/3 [==============================] - 0s 4ms/step - loss: nan - mae: nan\n",
            "Epoch 30/100\n",
            "3/3 [==============================] - 0s 5ms/step - loss: nan - mae: nan\n",
            "Epoch 31/100\n",
            "3/3 [==============================] - 0s 4ms/step - loss: nan - mae: nan\n",
            "Epoch 32/100\n",
            "3/3 [==============================] - 0s 6ms/step - loss: nan - mae: nan\n",
            "Epoch 33/100\n",
            "3/3 [==============================] - 0s 4ms/step - loss: nan - mae: nan\n",
            "Epoch 34/100\n",
            "3/3 [==============================] - 0s 7ms/step - loss: nan - mae: nan\n",
            "Epoch 35/100\n",
            "3/3 [==============================] - 0s 5ms/step - loss: nan - mae: nan\n",
            "Epoch 36/100\n",
            "3/3 [==============================] - 0s 5ms/step - loss: nan - mae: nan\n",
            "Epoch 37/100\n",
            "3/3 [==============================] - 0s 4ms/step - loss: nan - mae: nan\n",
            "Epoch 38/100\n",
            "3/3 [==============================] - 0s 5ms/step - loss: nan - mae: nan\n",
            "Epoch 39/100\n",
            "3/3 [==============================] - 0s 4ms/step - loss: nan - mae: nan\n",
            "Epoch 40/100\n",
            "3/3 [==============================] - 0s 4ms/step - loss: nan - mae: nan\n",
            "Epoch 41/100\n",
            "3/3 [==============================] - 0s 4ms/step - loss: nan - mae: nan\n",
            "Epoch 42/100\n",
            "3/3 [==============================] - 0s 4ms/step - loss: nan - mae: nan\n",
            "Epoch 43/100\n",
            "3/3 [==============================] - 0s 4ms/step - loss: nan - mae: nan\n",
            "Epoch 44/100\n",
            "3/3 [==============================] - 0s 7ms/step - loss: nan - mae: nan\n",
            "Epoch 45/100\n",
            "3/3 [==============================] - 0s 5ms/step - loss: nan - mae: nan\n",
            "Epoch 46/100\n",
            "3/3 [==============================] - 0s 5ms/step - loss: nan - mae: nan\n",
            "Epoch 47/100\n",
            "3/3 [==============================] - 0s 4ms/step - loss: nan - mae: nan\n",
            "Epoch 48/100\n",
            "3/3 [==============================] - 0s 5ms/step - loss: nan - mae: nan\n",
            "Epoch 49/100\n",
            "3/3 [==============================] - 0s 5ms/step - loss: nan - mae: nan\n",
            "Epoch 50/100\n",
            "3/3 [==============================] - 0s 4ms/step - loss: nan - mae: nan\n",
            "Epoch 51/100\n",
            "3/3 [==============================] - 0s 4ms/step - loss: nan - mae: nan\n",
            "Epoch 52/100\n",
            "3/3 [==============================] - 0s 5ms/step - loss: nan - mae: nan\n",
            "Epoch 53/100\n",
            "3/3 [==============================] - 0s 5ms/step - loss: nan - mae: nan\n",
            "Epoch 54/100\n",
            "3/3 [==============================] - 0s 6ms/step - loss: nan - mae: nan\n",
            "Epoch 55/100\n",
            "3/3 [==============================] - 0s 7ms/step - loss: nan - mae: nan\n",
            "Epoch 56/100\n",
            "3/3 [==============================] - 0s 4ms/step - loss: nan - mae: nan\n",
            "Epoch 57/100\n",
            "3/3 [==============================] - 0s 5ms/step - loss: nan - mae: nan\n",
            "Epoch 58/100\n",
            "3/3 [==============================] - 0s 4ms/step - loss: nan - mae: nan\n",
            "Epoch 59/100\n",
            "3/3 [==============================] - 0s 5ms/step - loss: nan - mae: nan\n",
            "Epoch 60/100\n",
            "3/3 [==============================] - 0s 4ms/step - loss: nan - mae: nan\n",
            "Epoch 61/100\n",
            "3/3 [==============================] - 0s 5ms/step - loss: nan - mae: nan\n",
            "Epoch 62/100\n",
            "3/3 [==============================] - 0s 5ms/step - loss: nan - mae: nan\n",
            "Epoch 63/100\n",
            "3/3 [==============================] - 0s 5ms/step - loss: nan - mae: nan\n",
            "Epoch 64/100\n",
            "3/3 [==============================] - 0s 4ms/step - loss: nan - mae: nan\n",
            "Epoch 65/100\n",
            "3/3 [==============================] - 0s 5ms/step - loss: nan - mae: nan\n",
            "Epoch 66/100\n",
            "3/3 [==============================] - 0s 4ms/step - loss: nan - mae: nan\n",
            "Epoch 67/100\n",
            "3/3 [==============================] - 0s 4ms/step - loss: nan - mae: nan\n",
            "Epoch 68/100\n",
            "3/3 [==============================] - 0s 5ms/step - loss: nan - mae: nan\n",
            "Epoch 69/100\n",
            "3/3 [==============================] - 0s 4ms/step - loss: nan - mae: nan\n",
            "Epoch 70/100\n",
            "3/3 [==============================] - 0s 4ms/step - loss: nan - mae: nan\n",
            "Epoch 71/100\n",
            "3/3 [==============================] - 0s 4ms/step - loss: nan - mae: nan\n",
            "Epoch 72/100\n",
            "3/3 [==============================] - 0s 4ms/step - loss: nan - mae: nan\n",
            "Epoch 73/100\n",
            "3/3 [==============================] - 0s 4ms/step - loss: nan - mae: nan\n",
            "Epoch 74/100\n",
            "3/3 [==============================] - 0s 4ms/step - loss: nan - mae: nan\n",
            "Epoch 75/100\n",
            "3/3 [==============================] - 0s 5ms/step - loss: nan - mae: nan\n",
            "Epoch 76/100\n",
            "3/3 [==============================] - 0s 4ms/step - loss: nan - mae: nan\n",
            "Epoch 77/100\n",
            "3/3 [==============================] - 0s 5ms/step - loss: nan - mae: nan\n",
            "Epoch 78/100\n",
            "3/3 [==============================] - 0s 4ms/step - loss: nan - mae: nan\n",
            "Epoch 79/100\n",
            "3/3 [==============================] - 0s 4ms/step - loss: nan - mae: nan\n",
            "Epoch 80/100\n",
            "3/3 [==============================] - 0s 5ms/step - loss: nan - mae: nan\n",
            "Epoch 81/100\n",
            "3/3 [==============================] - 0s 5ms/step - loss: nan - mae: nan\n",
            "Epoch 82/100\n",
            "3/3 [==============================] - 0s 5ms/step - loss: nan - mae: nan\n",
            "Epoch 83/100\n",
            "3/3 [==============================] - 0s 5ms/step - loss: nan - mae: nan\n",
            "Epoch 84/100\n",
            "3/3 [==============================] - 0s 4ms/step - loss: nan - mae: nan\n",
            "Epoch 85/100\n",
            "3/3 [==============================] - 0s 5ms/step - loss: nan - mae: nan\n",
            "Epoch 86/100\n",
            "3/3 [==============================] - 0s 4ms/step - loss: nan - mae: nan\n",
            "Epoch 87/100\n",
            "3/3 [==============================] - 0s 4ms/step - loss: nan - mae: nan\n",
            "Epoch 88/100\n",
            "3/3 [==============================] - 0s 4ms/step - loss: nan - mae: nan\n",
            "Epoch 89/100\n",
            "3/3 [==============================] - 0s 5ms/step - loss: nan - mae: nan\n",
            "Epoch 90/100\n",
            "3/3 [==============================] - 0s 5ms/step - loss: nan - mae: nan\n",
            "Epoch 91/100\n",
            "3/3 [==============================] - 0s 5ms/step - loss: nan - mae: nan\n",
            "Epoch 92/100\n",
            "3/3 [==============================] - 0s 5ms/step - loss: nan - mae: nan\n",
            "Epoch 93/100\n",
            "3/3 [==============================] - 0s 4ms/step - loss: nan - mae: nan\n",
            "Epoch 94/100\n",
            "3/3 [==============================] - 0s 6ms/step - loss: nan - mae: nan\n",
            "Epoch 95/100\n",
            "3/3 [==============================] - 0s 5ms/step - loss: nan - mae: nan\n",
            "Epoch 96/100\n",
            "3/3 [==============================] - 0s 7ms/step - loss: nan - mae: nan\n",
            "Epoch 97/100\n",
            "3/3 [==============================] - 0s 6ms/step - loss: nan - mae: nan\n",
            "Epoch 98/100\n",
            "3/3 [==============================] - 0s 5ms/step - loss: nan - mae: nan\n",
            "Epoch 99/100\n",
            "3/3 [==============================] - 0s 4ms/step - loss: nan - mae: nan\n",
            "Epoch 100/100\n",
            "3/3 [==============================] - 0s 5ms/step - loss: nan - mae: nan\n"
          ]
        },
        {
          "output_type": "execute_result",
          "data": {
            "text/plain": [
              "<keras.callbacks.History at 0x7fcbea5c6b10>"
            ]
          },
          "metadata": {},
          "execution_count": 199
        }
      ]
    },
    {
      "cell_type": "markdown",
      "source": [
        "###model_02"
      ],
      "metadata": {
        "id": "n-aJCpVDMaZT"
      }
    },
    {
      "cell_type": "code",
      "source": [
        "tf.random.set_seed(42)\n",
        "\n",
        "model_02 = tf.keras.Sequential([\n",
        "    tf.keras.layers.Dense(100),\n",
        "    tf.keras.layers.Dense(10),\n",
        "    tf.keras.layers.Dense(1)\n",
        "])\n",
        "\n",
        "model_02.compile(loss = tf.keras.losses.mae,\n",
        "                 optimizer = tf.keras.optimizers.Adam(),\n",
        "                 metrics=[\"mae\"])\n",
        "\n",
        "history = model_02.fit(X_train , y_train , epochs = 100)"
      ],
      "metadata": {
        "colab": {
          "base_uri": "https://localhost:8080/"
        },
        "id": "TSmPGYiSJBaq",
        "outputId": "9cf6c5a8-75f5-4b45-9f8a-ebf7096b0916"
      },
      "execution_count": null,
      "outputs": [
        {
          "output_type": "stream",
          "name": "stdout",
          "text": [
            "Epoch 1/100\n",
            "3/3 [==============================] - 0s 5ms/step - loss: 34.9919 - mae: 34.9919\n",
            "Epoch 2/100\n",
            "3/3 [==============================] - 0s 5ms/step - loss: 14.4890 - mae: 14.4890\n",
            "Epoch 3/100\n",
            "3/3 [==============================] - 0s 4ms/step - loss: 12.4470 - mae: 12.4470\n",
            "Epoch 4/100\n",
            "3/3 [==============================] - 0s 5ms/step - loss: 10.2813 - mae: 10.2813\n",
            "Epoch 5/100\n",
            "3/3 [==============================] - 0s 4ms/step - loss: 10.6612 - mae: 10.6612\n",
            "Epoch 6/100\n",
            "3/3 [==============================] - 0s 4ms/step - loss: 8.1809 - mae: 8.1809\n",
            "Epoch 7/100\n",
            "3/3 [==============================] - 0s 5ms/step - loss: 11.3997 - mae: 11.3997\n",
            "Epoch 8/100\n",
            "3/3 [==============================] - 0s 4ms/step - loss: 7.7359 - mae: 7.7359\n",
            "Epoch 9/100\n",
            "3/3 [==============================] - 0s 4ms/step - loss: 11.4525 - mae: 11.4525\n",
            "Epoch 10/100\n",
            "3/3 [==============================] - 0s 4ms/step - loss: 8.6412 - mae: 8.6412\n",
            "Epoch 11/100\n",
            "3/3 [==============================] - 0s 4ms/step - loss: 11.1604 - mae: 11.1604\n",
            "Epoch 12/100\n",
            "3/3 [==============================] - 0s 4ms/step - loss: 12.9963 - mae: 12.9963\n",
            "Epoch 13/100\n",
            "3/3 [==============================] - 0s 6ms/step - loss: 9.6716 - mae: 9.6716\n",
            "Epoch 14/100\n",
            "3/3 [==============================] - 0s 4ms/step - loss: 9.5833 - mae: 9.5833\n",
            "Epoch 15/100\n",
            "3/3 [==============================] - 0s 4ms/step - loss: 12.4004 - mae: 12.4004\n",
            "Epoch 16/100\n",
            "3/3 [==============================] - 0s 5ms/step - loss: 7.9677 - mae: 7.9677\n",
            "Epoch 17/100\n",
            "3/3 [==============================] - 0s 5ms/step - loss: 7.0010 - mae: 7.0010\n",
            "Epoch 18/100\n",
            "3/3 [==============================] - 0s 5ms/step - loss: 8.0526 - mae: 8.0526\n",
            "Epoch 19/100\n",
            "3/3 [==============================] - 0s 4ms/step - loss: 9.8934 - mae: 9.8934\n",
            "Epoch 20/100\n",
            "3/3 [==============================] - 0s 7ms/step - loss: 11.0927 - mae: 11.0927\n",
            "Epoch 21/100\n",
            "3/3 [==============================] - 0s 4ms/step - loss: 10.3361 - mae: 10.3361\n",
            "Epoch 22/100\n",
            "3/3 [==============================] - 0s 5ms/step - loss: 9.9601 - mae: 9.9601\n",
            "Epoch 23/100\n",
            "3/3 [==============================] - 0s 5ms/step - loss: 8.0515 - mae: 8.0515\n",
            "Epoch 24/100\n",
            "3/3 [==============================] - 0s 5ms/step - loss: 6.9578 - mae: 6.9578\n",
            "Epoch 25/100\n",
            "3/3 [==============================] - 0s 4ms/step - loss: 6.6206 - mae: 6.6206\n",
            "Epoch 26/100\n",
            "3/3 [==============================] - 0s 5ms/step - loss: 6.7000 - mae: 6.7000\n",
            "Epoch 27/100\n",
            "3/3 [==============================] - 0s 4ms/step - loss: 7.0787 - mae: 7.0787\n",
            "Epoch 28/100\n",
            "3/3 [==============================] - 0s 4ms/step - loss: 8.0960 - mae: 8.0960\n",
            "Epoch 29/100\n",
            "3/3 [==============================] - 0s 6ms/step - loss: 8.7407 - mae: 8.7407\n",
            "Epoch 30/100\n",
            "3/3 [==============================] - 0s 6ms/step - loss: 7.7230 - mae: 7.7230\n",
            "Epoch 31/100\n",
            "3/3 [==============================] - 0s 6ms/step - loss: 6.6893 - mae: 6.6893\n",
            "Epoch 32/100\n",
            "3/3 [==============================] - 0s 5ms/step - loss: 6.6824 - mae: 6.6824\n",
            "Epoch 33/100\n",
            "3/3 [==============================] - 0s 5ms/step - loss: 6.7976 - mae: 6.7976\n",
            "Epoch 34/100\n",
            "3/3 [==============================] - 0s 4ms/step - loss: 6.4334 - mae: 6.4334\n",
            "Epoch 35/100\n",
            "3/3 [==============================] - 0s 7ms/step - loss: 6.6808 - mae: 6.6808\n",
            "Epoch 36/100\n",
            "3/3 [==============================] - 0s 4ms/step - loss: 6.2667 - mae: 6.2667\n",
            "Epoch 37/100\n",
            "3/3 [==============================] - 0s 7ms/step - loss: 6.5493 - mae: 6.5493\n",
            "Epoch 38/100\n",
            "3/3 [==============================] - 0s 6ms/step - loss: 7.2726 - mae: 7.2726\n",
            "Epoch 39/100\n",
            "3/3 [==============================] - 0s 7ms/step - loss: 7.6931 - mae: 7.6931\n",
            "Epoch 40/100\n",
            "3/3 [==============================] - 0s 4ms/step - loss: 6.9330 - mae: 6.9330\n",
            "Epoch 41/100\n",
            "3/3 [==============================] - 0s 8ms/step - loss: 6.8428 - mae: 6.8428\n",
            "Epoch 42/100\n",
            "3/3 [==============================] - 0s 5ms/step - loss: 6.9096 - mae: 6.9096\n",
            "Epoch 43/100\n",
            "3/3 [==============================] - 0s 4ms/step - loss: 7.6459 - mae: 7.6459\n",
            "Epoch 44/100\n",
            "3/3 [==============================] - 0s 8ms/step - loss: 10.3329 - mae: 10.3329\n",
            "Epoch 45/100\n",
            "3/3 [==============================] - 0s 5ms/step - loss: 8.5686 - mae: 8.5686\n",
            "Epoch 46/100\n",
            "3/3 [==============================] - 0s 4ms/step - loss: 8.4027 - mae: 8.4027\n",
            "Epoch 47/100\n",
            "3/3 [==============================] - 0s 4ms/step - loss: 6.8262 - mae: 6.8262\n",
            "Epoch 48/100\n",
            "3/3 [==============================] - 0s 8ms/step - loss: 9.4319 - mae: 9.4319\n",
            "Epoch 49/100\n",
            "3/3 [==============================] - 0s 4ms/step - loss: 11.5824 - mae: 11.5824\n",
            "Epoch 50/100\n",
            "3/3 [==============================] - 0s 4ms/step - loss: 9.4874 - mae: 9.4874\n",
            "Epoch 51/100\n",
            "3/3 [==============================] - 0s 5ms/step - loss: 7.9601 - mae: 7.9601\n",
            "Epoch 52/100\n",
            "3/3 [==============================] - 0s 6ms/step - loss: 8.0688 - mae: 8.0688\n",
            "Epoch 53/100\n",
            "3/3 [==============================] - 0s 4ms/step - loss: 8.4109 - mae: 8.4109\n",
            "Epoch 54/100\n",
            "3/3 [==============================] - 0s 5ms/step - loss: 7.6810 - mae: 7.6810\n",
            "Epoch 55/100\n",
            "3/3 [==============================] - 0s 5ms/step - loss: 9.2066 - mae: 9.2066\n",
            "Epoch 56/100\n",
            "3/3 [==============================] - 0s 5ms/step - loss: 10.1562 - mae: 10.1562\n",
            "Epoch 57/100\n",
            "3/3 [==============================] - 0s 5ms/step - loss: 9.3849 - mae: 9.3849\n",
            "Epoch 58/100\n",
            "3/3 [==============================] - 0s 4ms/step - loss: 7.6054 - mae: 7.6054\n",
            "Epoch 59/100\n",
            "3/3 [==============================] - 0s 4ms/step - loss: 8.1474 - mae: 8.1474\n",
            "Epoch 60/100\n",
            "3/3 [==============================] - 0s 4ms/step - loss: 5.5581 - mae: 5.5581\n",
            "Epoch 61/100\n",
            "3/3 [==============================] - 0s 4ms/step - loss: 6.5177 - mae: 6.5177\n",
            "Epoch 62/100\n",
            "3/3 [==============================] - 0s 5ms/step - loss: 8.5781 - mae: 8.5781\n",
            "Epoch 63/100\n",
            "3/3 [==============================] - 0s 5ms/step - loss: 7.6387 - mae: 7.6387\n",
            "Epoch 64/100\n",
            "3/3 [==============================] - 0s 5ms/step - loss: 6.7753 - mae: 6.7753\n",
            "Epoch 65/100\n",
            "3/3 [==============================] - 0s 4ms/step - loss: 7.8338 - mae: 7.8338\n",
            "Epoch 66/100\n",
            "3/3 [==============================] - 0s 5ms/step - loss: 7.9355 - mae: 7.9355\n",
            "Epoch 67/100\n",
            "3/3 [==============================] - 0s 4ms/step - loss: 6.1401 - mae: 6.1401\n",
            "Epoch 68/100\n",
            "3/3 [==============================] - 0s 4ms/step - loss: 8.3681 - mae: 8.3681\n",
            "Epoch 69/100\n",
            "3/3 [==============================] - 0s 4ms/step - loss: 7.3176 - mae: 7.3176\n",
            "Epoch 70/100\n",
            "3/3 [==============================] - 0s 4ms/step - loss: 7.8572 - mae: 7.8572\n",
            "Epoch 71/100\n",
            "3/3 [==============================] - 0s 4ms/step - loss: 6.0365 - mae: 6.0365\n",
            "Epoch 72/100\n",
            "3/3 [==============================] - 0s 4ms/step - loss: 6.5988 - mae: 6.5988\n",
            "Epoch 73/100\n",
            "3/3 [==============================] - 0s 5ms/step - loss: 6.3825 - mae: 6.3825\n",
            "Epoch 74/100\n",
            "3/3 [==============================] - 0s 4ms/step - loss: 5.8627 - mae: 5.8627\n",
            "Epoch 75/100\n",
            "3/3 [==============================] - 0s 4ms/step - loss: 5.4441 - mae: 5.4441\n",
            "Epoch 76/100\n",
            "3/3 [==============================] - 0s 5ms/step - loss: 6.3844 - mae: 6.3844\n",
            "Epoch 77/100\n",
            "3/3 [==============================] - 0s 4ms/step - loss: 7.0554 - mae: 7.0554\n",
            "Epoch 78/100\n",
            "3/3 [==============================] - 0s 5ms/step - loss: 8.7859 - mae: 8.7859\n",
            "Epoch 79/100\n",
            "3/3 [==============================] - 0s 5ms/step - loss: 7.0088 - mae: 7.0088\n",
            "Epoch 80/100\n",
            "3/3 [==============================] - 0s 4ms/step - loss: 10.2509 - mae: 10.2509\n",
            "Epoch 81/100\n",
            "3/3 [==============================] - 0s 5ms/step - loss: 7.9826 - mae: 7.9826\n",
            "Epoch 82/100\n",
            "3/3 [==============================] - 0s 4ms/step - loss: 8.0792 - mae: 8.0792\n",
            "Epoch 83/100\n",
            "3/3 [==============================] - 0s 4ms/step - loss: 7.6070 - mae: 7.6070\n",
            "Epoch 84/100\n",
            "3/3 [==============================] - 0s 4ms/step - loss: 8.1075 - mae: 8.1075\n",
            "Epoch 85/100\n",
            "3/3 [==============================] - 0s 4ms/step - loss: 8.8543 - mae: 8.8543\n",
            "Epoch 86/100\n",
            "3/3 [==============================] - 0s 4ms/step - loss: 8.4053 - mae: 8.4053\n",
            "Epoch 87/100\n",
            "3/3 [==============================] - 0s 4ms/step - loss: 5.8770 - mae: 5.8770\n",
            "Epoch 88/100\n",
            "3/3 [==============================] - 0s 4ms/step - loss: 5.4873 - mae: 5.4873\n",
            "Epoch 89/100\n",
            "3/3 [==============================] - 0s 4ms/step - loss: 6.6552 - mae: 6.6552\n",
            "Epoch 90/100\n",
            "3/3 [==============================] - 0s 6ms/step - loss: 7.4316 - mae: 7.4316\n",
            "Epoch 91/100\n",
            "3/3 [==============================] - 0s 4ms/step - loss: 8.5118 - mae: 8.5118\n",
            "Epoch 92/100\n",
            "3/3 [==============================] - 0s 5ms/step - loss: 8.0737 - mae: 8.0737\n",
            "Epoch 93/100\n",
            "3/3 [==============================] - 0s 4ms/step - loss: 6.7709 - mae: 6.7709\n",
            "Epoch 94/100\n",
            "3/3 [==============================] - 0s 4ms/step - loss: 7.3914 - mae: 7.3914\n",
            "Epoch 95/100\n",
            "3/3 [==============================] - 0s 5ms/step - loss: 6.5800 - mae: 6.5800\n",
            "Epoch 96/100\n",
            "3/3 [==============================] - 0s 4ms/step - loss: 7.4669 - mae: 7.4669\n",
            "Epoch 97/100\n",
            "3/3 [==============================] - 0s 4ms/step - loss: 7.3869 - mae: 7.3869\n",
            "Epoch 98/100\n",
            "3/3 [==============================] - 0s 4ms/step - loss: 5.9544 - mae: 5.9544\n",
            "Epoch 99/100\n",
            "3/3 [==============================] - 0s 4ms/step - loss: 5.9326 - mae: 5.9326\n",
            "Epoch 100/100\n",
            "3/3 [==============================] - 0s 4ms/step - loss: 7.6337 - mae: 7.6337\n"
          ]
        }
      ]
    },
    {
      "cell_type": "code",
      "source": [
        "model_02.evaluate(X_test , y_test)"
      ],
      "metadata": {
        "colab": {
          "base_uri": "https://localhost:8080/"
        },
        "id": "oOv_v_TKLaad",
        "outputId": "f2cb5435-c034-4df7-89f7-ba1248f21276"
      },
      "execution_count": null,
      "outputs": [
        {
          "output_type": "stream",
          "name": "stdout",
          "text": [
            "1/1 [==============================] - 0s 89ms/step - loss: 15.6426 - mae: 15.6426\n"
          ]
        },
        {
          "output_type": "execute_result",
          "data": {
            "text/plain": [
              "[15.64256763458252, 15.64256763458252]"
            ]
          },
          "metadata": {},
          "execution_count": 201
        }
      ]
    },
    {
      "cell_type": "code",
      "source": [
        "# plot the loss curves of model_02 \n",
        "\n",
        "pd.DataFrame(history.history).plot()\n",
        "plt.ylabel(\"loss\")\n",
        "plt.xlabel(\"epochs\");"
      ],
      "metadata": {
        "colab": {
          "base_uri": "https://localhost:8080/",
          "height": 279
        },
        "id": "H-NpOMTMLzJ4",
        "outputId": "ee28ea4b-b76f-4374-8bf5-b2744f5b8f58"
      },
      "execution_count": null,
      "outputs": [
        {
          "output_type": "display_data",
          "data": {
            "text/plain": [
              "<Figure size 432x288 with 1 Axes>"
            ],
            "image/png": "[encoded data removed]"
          },
          "metadata": {
            "needs_background": "light"
          }
        }
      ]
    },
    {
      "cell_type": "markdown",
      "source": [
        "###model_03"
      ],
      "metadata": {
        "id": "rdTngT9QMvbD"
      }
    },
    {
      "cell_type": "code",
      "source": [
        "tf.random.set_seed(42)\n",
        "\n",
        "model_03 = tf.keras.Sequential([\n",
        "    tf.keras.layers.Dense(100),\n",
        "    tf.keras.layers.Dense(10),\n",
        "    tf.keras.layers.Dense(1)\n",
        "])\n",
        "\n",
        "model_03.compile(loss = tf.keras.losses.mae,\n",
        "                 optimizer = tf.keras.optimizers.Adam(),\n",
        "                 metrics=[\"mae\"])\n",
        "\n",
        "history = model_03.fit(X_train , y_train , epochs = 200)"
      ],
      "metadata": {
        "colab": {
          "base_uri": "https://localhost:8080/"
        },
        "id": "2XmWxKySMzJn",
        "outputId": "bddb275d-c402-4825-e377-437647533989"
      },
      "execution_count": null,
      "outputs": [
        {
          "output_type": "stream",
          "name": "stdout",
          "text": [
            "Epoch 1/200\n",
            "3/3 [==============================] - 0s 5ms/step - loss: 34.9919 - mae: 34.9919\n",
            "Epoch 2/200\n",
            "3/3 [==============================] - 0s 5ms/step - loss: 14.4890 - mae: 14.4890\n",
            "Epoch 3/200\n",
            "3/3 [==============================] - 0s 5ms/step - loss: 12.4470 - mae: 12.4470\n",
            "Epoch 4/200\n",
            "3/3 [==============================] - 0s 6ms/step - loss: 10.2813 - mae: 10.2813\n",
            "Epoch 5/200\n",
            "3/3 [==============================] - 0s 4ms/step - loss: 10.6612 - mae: 10.6612\n",
            "Epoch 6/200\n",
            "3/3 [==============================] - 0s 5ms/step - loss: 8.1809 - mae: 8.1809\n",
            "Epoch 7/200\n",
            "3/3 [==============================] - 0s 4ms/step - loss: 11.3997 - mae: 11.3997\n",
            "Epoch 8/200\n",
            "3/3 [==============================] - 0s 5ms/step - loss: 7.7359 - mae: 7.7359\n",
            "Epoch 9/200\n",
            "3/3 [==============================] - 0s 5ms/step - loss: 11.4525 - mae: 11.4525\n",
            "Epoch 10/200\n",
            "3/3 [==============================] - 0s 4ms/step - loss: 8.6412 - mae: 8.6412\n",
            "Epoch 11/200\n",
            "3/3 [==============================] - 0s 5ms/step - loss: 11.1604 - mae: 11.1604\n",
            "Epoch 12/200\n",
            "3/3 [==============================] - 0s 6ms/step - loss: 12.9963 - mae: 12.9963\n",
            "Epoch 13/200\n",
            "3/3 [==============================] - 0s 5ms/step - loss: 9.6716 - mae: 9.6716\n",
            "Epoch 14/200\n",
            "3/3 [==============================] - 0s 4ms/step - loss: 9.5833 - mae: 9.5833\n",
            "Epoch 15/200\n",
            "3/3 [==============================] - 0s 4ms/step - loss: 12.4004 - mae: 12.4004\n",
            "Epoch 16/200\n",
            "3/3 [==============================] - 0s 5ms/step - loss: 7.9677 - mae: 7.9677\n",
            "Epoch 17/200\n",
            "3/3 [==============================] - 0s 4ms/step - loss: 7.0010 - mae: 7.0010\n",
            "Epoch 18/200\n",
            "3/3 [==============================] - 0s 4ms/step - loss: 8.0526 - mae: 8.0526\n",
            "Epoch 19/200\n",
            "3/3 [==============================] - 0s 4ms/step - loss: 9.8934 - mae: 9.8934\n",
            "Epoch 20/200\n",
            "3/3 [==============================] - 0s 4ms/step - loss: 11.0927 - mae: 11.0927\n",
            "Epoch 21/200\n",
            "3/3 [==============================] - 0s 5ms/step - loss: 10.3361 - mae: 10.3361\n",
            "Epoch 22/200\n",
            "3/3 [==============================] - 0s 7ms/step - loss: 9.9601 - mae: 9.9601\n",
            "Epoch 23/200\n",
            "3/3 [==============================] - 0s 4ms/step - loss: 8.0515 - mae: 8.0515\n",
            "Epoch 24/200\n",
            "3/3 [==============================] - 0s 4ms/step - loss: 6.9578 - mae: 6.9578\n",
            "Epoch 25/200\n",
            "3/3 [==============================] - 0s 5ms/step - loss: 6.6206 - mae: 6.6206\n",
            "Epoch 26/200\n",
            "3/3 [==============================] - 0s 4ms/step - loss: 6.7000 - mae: 6.7000\n",
            "Epoch 27/200\n",
            "3/3 [==============================] - 0s 4ms/step - loss: 7.0787 - mae: 7.0787\n",
            "Epoch 28/200\n",
            "3/3 [==============================] - 0s 4ms/step - loss: 8.0960 - mae: 8.0960\n",
            "Epoch 29/200\n",
            "3/3 [==============================] - 0s 5ms/step - loss: 8.7407 - mae: 8.7407\n",
            "Epoch 30/200\n",
            "3/3 [==============================] - 0s 4ms/step - loss: 7.7230 - mae: 7.7230\n",
            "Epoch 31/200\n",
            "3/3 [==============================] - 0s 5ms/step - loss: 6.6893 - mae: 6.6893\n",
            "Epoch 32/200\n",
            "3/3 [==============================] - 0s 4ms/step - loss: 6.6824 - mae: 6.6824\n",
            "Epoch 33/200\n",
            "3/3 [==============================] - 0s 4ms/step - loss: 6.7976 - mae: 6.7976\n",
            "Epoch 34/200\n",
            "3/3 [==============================] - 0s 5ms/step - loss: 6.4334 - mae: 6.4334\n",
            "Epoch 35/200\n",
            "3/3 [==============================] - 0s 5ms/step - loss: 6.6808 - mae: 6.6808\n",
            "Epoch 36/200\n",
            "3/3 [==============================] - 0s 5ms/step - loss: 6.2667 - mae: 6.2667\n",
            "Epoch 37/200\n",
            "3/3 [==============================] - 0s 5ms/step - loss: 6.5493 - mae: 6.5493\n",
            "Epoch 38/200\n",
            "3/3 [==============================] - 0s 4ms/step - loss: 7.2726 - mae: 7.2726\n",
            "Epoch 39/200\n",
            "3/3 [==============================] - 0s 5ms/step - loss: 7.6931 - mae: 7.6931\n",
            "Epoch 40/200\n",
            "3/3 [==============================] - 0s 5ms/step - loss: 6.9330 - mae: 6.9330\n",
            "Epoch 41/200\n",
            "3/3 [==============================] - 0s 5ms/step - loss: 6.8428 - mae: 6.8428\n",
            "Epoch 42/200\n",
            "3/3 [==============================] - 0s 5ms/step - loss: 6.9096 - mae: 6.9096\n",
            "Epoch 43/200\n",
            "3/3 [==============================] - 0s 5ms/step - loss: 7.6459 - mae: 7.6459\n",
            "Epoch 44/200\n",
            "3/3 [==============================] - 0s 5ms/step - loss: 10.3329 - mae: 10.3329\n",
            "Epoch 45/200\n",
            "3/3 [==============================] - 0s 5ms/step - loss: 8.5686 - mae: 8.5686\n",
            "Epoch 46/200\n",
            "3/3 [==============================] - 0s 5ms/step - loss: 8.4027 - mae: 8.4027\n",
            "Epoch 47/200\n",
            "3/3 [==============================] - 0s 5ms/step - loss: 6.8262 - mae: 6.8262\n",
            "Epoch 48/200\n",
            "3/3 [==============================] - 0s 5ms/step - loss: 9.4319 - mae: 9.4319\n",
            "Epoch 49/200\n",
            "3/3 [==============================] - 0s 5ms/step - loss: 11.5824 - mae: 11.5824\n",
            "Epoch 50/200\n",
            "3/3 [==============================] - 0s 5ms/step - loss: 9.4874 - mae: 9.4874\n",
            "Epoch 51/200\n",
            "3/3 [==============================] - 0s 5ms/step - loss: 7.9601 - mae: 7.9601\n",
            "Epoch 52/200\n",
            "3/3 [==============================] - 0s 7ms/step - loss: 8.0688 - mae: 8.0688\n",
            "Epoch 53/200\n",
            "3/3 [==============================] - 0s 6ms/step - loss: 8.4109 - mae: 8.4109\n",
            "Epoch 54/200\n",
            "3/3 [==============================] - 0s 4ms/step - loss: 7.6810 - mae: 7.6810\n",
            "Epoch 55/200\n",
            "3/3 [==============================] - 0s 6ms/step - loss: 9.2066 - mae: 9.2066\n",
            "Epoch 56/200\n",
            "3/3 [==============================] - 0s 4ms/step - loss: 10.1562 - mae: 10.1562\n",
            "Epoch 57/200\n",
            "3/3 [==============================] - 0s 4ms/step - loss: 9.3849 - mae: 9.3849\n",
            "Epoch 58/200\n",
            "3/3 [==============================] - 0s 5ms/step - loss: 7.6054 - mae: 7.6054\n",
            "Epoch 59/200\n",
            "3/3 [==============================] - 0s 4ms/step - loss: 8.1474 - mae: 8.1474\n",
            "Epoch 60/200\n",
            "3/3 [==============================] - 0s 5ms/step - loss: 5.5581 - mae: 5.5581\n",
            "Epoch 61/200\n",
            "3/3 [==============================] - 0s 5ms/step - loss: 6.5177 - mae: 6.5177\n",
            "Epoch 62/200\n",
            "3/3 [==============================] - 0s 5ms/step - loss: 8.5781 - mae: 8.5781\n",
            "Epoch 63/200\n",
            "3/3 [==============================] - 0s 5ms/step - loss: 7.6387 - mae: 7.6387\n",
            "Epoch 64/200\n",
            "3/3 [==============================] - 0s 5ms/step - loss: 6.7753 - mae: 6.7753\n",
            "Epoch 65/200\n",
            "3/3 [==============================] - 0s 5ms/step - loss: 7.8338 - mae: 7.8338\n",
            "Epoch 66/200\n",
            "3/3 [==============================] - 0s 5ms/step - loss: 7.9355 - mae: 7.9355\n",
            "Epoch 67/200\n",
            "3/3 [==============================] - 0s 5ms/step - loss: 6.1401 - mae: 6.1401\n",
            "Epoch 68/200\n",
            "3/3 [==============================] - 0s 5ms/step - loss: 8.3681 - mae: 8.3681\n",
            "Epoch 69/200\n",
            "3/3 [==============================] - 0s 7ms/step - loss: 7.3176 - mae: 7.3176\n",
            "Epoch 70/200\n",
            "3/3 [==============================] - 0s 5ms/step - loss: 7.8572 - mae: 7.8572\n",
            "Epoch 71/200\n",
            "3/3 [==============================] - 0s 5ms/step - loss: 6.0365 - mae: 6.0365\n",
            "Epoch 72/200\n",
            "3/3 [==============================] - 0s 5ms/step - loss: 6.5988 - mae: 6.5988\n",
            "Epoch 73/200\n",
            "3/3 [==============================] - 0s 7ms/step - loss: 6.3825 - mae: 6.3825\n",
            "Epoch 74/200\n",
            "3/3 [==============================] - 0s 5ms/step - loss: 5.8627 - mae: 5.8627\n",
            "Epoch 75/200\n",
            "3/3 [==============================] - 0s 4ms/step - loss: 5.4441 - mae: 5.4441\n",
            "Epoch 76/200\n",
            "3/3 [==============================] - 0s 4ms/step - loss: 6.3844 - mae: 6.3844\n",
            "Epoch 77/200\n",
            "3/3 [==============================] - 0s 5ms/step - loss: 7.0554 - mae: 7.0554\n",
            "Epoch 78/200\n",
            "3/3 [==============================] - 0s 5ms/step - loss: 8.7859 - mae: 8.7859\n",
            "Epoch 79/200\n",
            "3/3 [==============================] - 0s 5ms/step - loss: 7.0088 - mae: 7.0088\n",
            "Epoch 80/200\n",
            "3/3 [==============================] - 0s 5ms/step - loss: 10.2509 - mae: 10.2509\n",
            "Epoch 81/200\n",
            "3/3 [==============================] - 0s 5ms/step - loss: 7.9826 - mae: 7.9826\n",
            "Epoch 82/200\n",
            "3/3 [==============================] - 0s 5ms/step - loss: 8.0792 - mae: 8.0792\n",
            "Epoch 83/200\n",
            "3/3 [==============================] - 0s 5ms/step - loss: 7.6070 - mae: 7.6070\n",
            "Epoch 84/200\n",
            "3/3 [==============================] - 0s 4ms/step - loss: 8.1075 - mae: 8.1075\n",
            "Epoch 85/200\n",
            "3/3 [==============================] - 0s 5ms/step - loss: 8.8543 - mae: 8.8543\n",
            "Epoch 86/200\n",
            "3/3 [==============================] - 0s 5ms/step - loss: 8.4053 - mae: 8.4053\n",
            "Epoch 87/200\n",
            "3/3 [==============================] - 0s 5ms/step - loss: 5.8770 - mae: 5.8770\n",
            "Epoch 88/200\n",
            "3/3 [==============================] - 0s 5ms/step - loss: 5.4873 - mae: 5.4873\n",
            "Epoch 89/200\n",
            "3/3 [==============================] - 0s 5ms/step - loss: 6.6552 - mae: 6.6552\n",
            "Epoch 90/200\n",
            "3/3 [==============================] - 0s 5ms/step - loss: 7.4316 - mae: 7.4316\n",
            "Epoch 91/200\n",
            "3/3 [==============================] - 0s 6ms/step - loss: 8.5118 - mae: 8.5118\n",
            "Epoch 92/200\n",
            "3/3 [==============================] - 0s 7ms/step - loss: 8.0737 - mae: 8.0737\n",
            "Epoch 93/200\n",
            "3/3 [==============================] - 0s 5ms/step - loss: 6.7709 - mae: 6.7709\n",
            "Epoch 94/200\n",
            "3/3 [==============================] - 0s 5ms/step - loss: 7.3914 - mae: 7.3914\n",
            "Epoch 95/200\n",
            "3/3 [==============================] - 0s 5ms/step - loss: 6.5800 - mae: 6.5800\n",
            "Epoch 96/200\n",
            "3/3 [==============================] - 0s 5ms/step - loss: 7.4669 - mae: 7.4669\n",
            "Epoch 97/200\n",
            "3/3 [==============================] - 0s 5ms/step - loss: 7.3869 - mae: 7.3869\n",
            "Epoch 98/200\n",
            "3/3 [==============================] - 0s 5ms/step - loss: 5.9544 - mae: 5.9544\n",
            "Epoch 99/200\n",
            "3/3 [==============================] - 0s 5ms/step - loss: 5.9326 - mae: 5.9326\n",
            "Epoch 100/200\n",
            "3/3 [==============================] - 0s 13ms/step - loss: 7.6337 - mae: 7.6337\n",
            "Epoch 101/200\n",
            "3/3 [==============================] - 0s 5ms/step - loss: 9.0118 - mae: 9.0118\n",
            "Epoch 102/200\n",
            "3/3 [==============================] - 0s 5ms/step - loss: 9.3002 - mae: 9.3002\n",
            "Epoch 103/200\n",
            "3/3 [==============================] - 0s 6ms/step - loss: 12.6327 - mae: 12.6327\n",
            "Epoch 104/200\n",
            "3/3 [==============================] - 0s 4ms/step - loss: 7.7870 - mae: 7.7870\n",
            "Epoch 105/200\n",
            "3/3 [==============================] - 0s 4ms/step - loss: 9.1271 - mae: 9.1271\n",
            "Epoch 106/200\n",
            "3/3 [==============================] - 0s 5ms/step - loss: 9.9440 - mae: 9.9440\n",
            "Epoch 107/200\n",
            "3/3 [==============================] - 0s 5ms/step - loss: 8.5482 - mae: 8.5482\n",
            "Epoch 108/200\n",
            "3/3 [==============================] - 0s 6ms/step - loss: 7.3930 - mae: 7.3930\n",
            "Epoch 109/200\n",
            "3/3 [==============================] - 0s 5ms/step - loss: 6.7264 - mae: 6.7264\n",
            "Epoch 110/200\n",
            "3/3 [==============================] - 0s 5ms/step - loss: 7.2616 - mae: 7.2616\n",
            "Epoch 111/200\n",
            "3/3 [==============================] - 0s 5ms/step - loss: 7.9279 - mae: 7.9279\n",
            "Epoch 112/200\n",
            "3/3 [==============================] - 0s 5ms/step - loss: 7.0070 - mae: 7.0070\n",
            "Epoch 113/200\n",
            "3/3 [==============================] - 0s 5ms/step - loss: 7.8445 - mae: 7.8445\n",
            "Epoch 114/200\n",
            "3/3 [==============================] - 0s 4ms/step - loss: 9.5071 - mae: 9.5071\n",
            "Epoch 115/200\n",
            "3/3 [==============================] - 0s 5ms/step - loss: 6.3340 - mae: 6.3340\n",
            "Epoch 116/200\n",
            "3/3 [==============================] - 0s 5ms/step - loss: 7.2140 - mae: 7.2140\n",
            "Epoch 117/200\n",
            "3/3 [==============================] - 0s 5ms/step - loss: 9.2385 - mae: 9.2385\n",
            "Epoch 118/200\n",
            "3/3 [==============================] - 0s 5ms/step - loss: 8.2283 - mae: 8.2283\n",
            "Epoch 119/200\n",
            "3/3 [==============================] - 0s 5ms/step - loss: 8.9412 - mae: 8.9412\n",
            "Epoch 120/200\n",
            "3/3 [==============================] - 0s 5ms/step - loss: 9.0546 - mae: 9.0546\n",
            "Epoch 121/200\n",
            "3/3 [==============================] - 0s 7ms/step - loss: 7.5582 - mae: 7.5582\n",
            "Epoch 122/200\n",
            "3/3 [==============================] - 0s 5ms/step - loss: 8.0580 - mae: 8.0580\n",
            "Epoch 123/200\n",
            "3/3 [==============================] - 0s 5ms/step - loss: 6.3749 - mae: 6.3749\n",
            "Epoch 124/200\n",
            "3/3 [==============================] - 0s 5ms/step - loss: 6.4443 - mae: 6.4443\n",
            "Epoch 125/200\n",
            "3/3 [==============================] - 0s 5ms/step - loss: 6.8388 - mae: 6.8388\n",
            "Epoch 126/200\n",
            "3/3 [==============================] - 0s 4ms/step - loss: 6.8343 - mae: 6.8343\n",
            "Epoch 127/200\n",
            "3/3 [==============================] - 0s 6ms/step - loss: 8.3806 - mae: 8.3806\n",
            "Epoch 128/200\n",
            "3/3 [==============================] - 0s 5ms/step - loss: 7.1207 - mae: 7.1207\n",
            "Epoch 129/200\n",
            "3/3 [==============================] - 0s 5ms/step - loss: 8.3284 - mae: 8.3284\n",
            "Epoch 130/200\n",
            "3/3 [==============================] - 0s 5ms/step - loss: 8.8286 - mae: 8.8286\n",
            "Epoch 131/200\n",
            "3/3 [==============================] - 0s 5ms/step - loss: 9.0531 - mae: 9.0531\n",
            "Epoch 132/200\n",
            "3/3 [==============================] - 0s 5ms/step - loss: 6.0885 - mae: 6.0885\n",
            "Epoch 133/200\n",
            "3/3 [==============================] - 0s 6ms/step - loss: 5.7125 - mae: 5.7125\n",
            "Epoch 134/200\n",
            "3/3 [==============================] - 0s 5ms/step - loss: 6.4185 - mae: 6.4185\n",
            "Epoch 135/200\n",
            "3/3 [==============================] - 0s 5ms/step - loss: 7.5577 - mae: 7.5577\n",
            "Epoch 136/200\n",
            "3/3 [==============================] - 0s 5ms/step - loss: 6.4221 - mae: 6.4221\n",
            "Epoch 137/200\n",
            "3/3 [==============================] - 0s 5ms/step - loss: 5.3231 - mae: 5.3231\n",
            "Epoch 138/200\n",
            "3/3 [==============================] - 0s 5ms/step - loss: 6.7763 - mae: 6.7763\n",
            "Epoch 139/200\n",
            "3/3 [==============================] - 0s 5ms/step - loss: 8.2298 - mae: 8.2298\n",
            "Epoch 140/200\n",
            "3/3 [==============================] - 0s 5ms/step - loss: 6.4128 - mae: 6.4128\n",
            "Epoch 141/200\n",
            "3/3 [==============================] - 0s 7ms/step - loss: 6.1068 - mae: 6.1068\n",
            "Epoch 142/200\n",
            "3/3 [==============================] - 0s 5ms/step - loss: 6.0484 - mae: 6.0484\n",
            "Epoch 143/200\n",
            "3/3 [==============================] - 0s 5ms/step - loss: 7.5638 - mae: 7.5638\n",
            "Epoch 144/200\n",
            "3/3 [==============================] - 0s 5ms/step - loss: 7.1032 - mae: 7.1032\n",
            "Epoch 145/200\n",
            "3/3 [==============================] - 0s 5ms/step - loss: 6.6730 - mae: 6.6730\n",
            "Epoch 146/200\n",
            "3/3 [==============================] - 0s 5ms/step - loss: 6.3145 - mae: 6.3145\n",
            "Epoch 147/200\n",
            "3/3 [==============================] - 0s 5ms/step - loss: 7.3548 - mae: 7.3548\n",
            "Epoch 148/200\n",
            "3/3 [==============================] - 0s 5ms/step - loss: 6.8849 - mae: 6.8849\n",
            "Epoch 149/200\n",
            "3/3 [==============================] - 0s 5ms/step - loss: 8.5172 - mae: 8.5172\n",
            "Epoch 150/200\n",
            "3/3 [==============================] - 0s 5ms/step - loss: 10.4932 - mae: 10.4932\n",
            "Epoch 151/200\n",
            "3/3 [==============================] - 0s 6ms/step - loss: 7.6558 - mae: 7.6558\n",
            "Epoch 152/200\n",
            "3/3 [==============================] - 0s 5ms/step - loss: 7.6847 - mae: 7.6847\n",
            "Epoch 153/200\n",
            "3/3 [==============================] - 0s 5ms/step - loss: 7.9362 - mae: 7.9362\n",
            "Epoch 154/200\n",
            "3/3 [==============================] - 0s 7ms/step - loss: 10.1008 - mae: 10.1008\n",
            "Epoch 155/200\n",
            "3/3 [==============================] - 0s 7ms/step - loss: 10.9043 - mae: 10.9043\n",
            "Epoch 156/200\n",
            "3/3 [==============================] - 0s 6ms/step - loss: 10.3256 - mae: 10.3256\n",
            "Epoch 157/200\n",
            "3/3 [==============================] - 0s 5ms/step - loss: 9.2487 - mae: 9.2487\n",
            "Epoch 158/200\n",
            "3/3 [==============================] - 0s 4ms/step - loss: 7.9102 - mae: 7.9102\n",
            "Epoch 159/200\n",
            "3/3 [==============================] - 0s 5ms/step - loss: 7.1485 - mae: 7.1485\n",
            "Epoch 160/200\n",
            "3/3 [==============================] - 0s 5ms/step - loss: 7.0035 - mae: 7.0035\n",
            "Epoch 161/200\n",
            "3/3 [==============================] - 0s 5ms/step - loss: 7.3901 - mae: 7.3901\n",
            "Epoch 162/200\n",
            "3/3 [==============================] - 0s 5ms/step - loss: 7.7888 - mae: 7.7888\n",
            "Epoch 163/200\n",
            "3/3 [==============================] - 0s 5ms/step - loss: 6.8483 - mae: 6.8483\n",
            "Epoch 164/200\n",
            "3/3 [==============================] - 0s 5ms/step - loss: 6.2176 - mae: 6.2176\n",
            "Epoch 165/200\n",
            "3/3 [==============================] - 0s 6ms/step - loss: 6.5444 - mae: 6.5444\n",
            "Epoch 166/200\n",
            "3/3 [==============================] - 0s 5ms/step - loss: 6.1711 - mae: 6.1711\n",
            "Epoch 167/200\n",
            "3/3 [==============================] - 0s 4ms/step - loss: 7.7185 - mae: 7.7185\n",
            "Epoch 168/200\n",
            "3/3 [==============================] - 0s 6ms/step - loss: 7.0204 - mae: 7.0204\n",
            "Epoch 169/200\n",
            "3/3 [==============================] - 0s 5ms/step - loss: 7.3504 - mae: 7.3504\n",
            "Epoch 170/200\n",
            "3/3 [==============================] - 0s 5ms/step - loss: 11.5161 - mae: 11.5161\n",
            "Epoch 171/200\n",
            "3/3 [==============================] - 0s 5ms/step - loss: 9.5230 - mae: 9.5230\n",
            "Epoch 172/200\n",
            "3/3 [==============================] - 0s 5ms/step - loss: 7.9987 - mae: 7.9987\n",
            "Epoch 173/200\n",
            "3/3 [==============================] - 0s 5ms/step - loss: 8.8351 - mae: 8.8351\n",
            "Epoch 174/200\n",
            "3/3 [==============================] - 0s 5ms/step - loss: 12.9581 - mae: 12.9581\n",
            "Epoch 175/200\n",
            "3/3 [==============================] - 0s 5ms/step - loss: 11.5261 - mae: 11.5261\n",
            "Epoch 176/200\n",
            "3/3 [==============================] - 0s 5ms/step - loss: 10.7388 - mae: 10.7388\n",
            "Epoch 177/200\n",
            "3/3 [==============================] - 0s 6ms/step - loss: 9.1502 - mae: 9.1502\n",
            "Epoch 178/200\n",
            "3/3 [==============================] - 0s 5ms/step - loss: 10.0513 - mae: 10.0513\n",
            "Epoch 179/200\n",
            "3/3 [==============================] - 0s 5ms/step - loss: 9.8146 - mae: 9.8146\n",
            "Epoch 180/200\n",
            "3/3 [==============================] - 0s 5ms/step - loss: 10.0445 - mae: 10.0445\n",
            "Epoch 181/200\n",
            "3/3 [==============================] - 0s 5ms/step - loss: 11.0001 - mae: 11.0001\n",
            "Epoch 182/200\n",
            "3/3 [==============================] - 0s 5ms/step - loss: 8.8274 - mae: 8.8274\n",
            "Epoch 183/200\n",
            "3/3 [==============================] - 0s 5ms/step - loss: 9.6565 - mae: 9.6565\n",
            "Epoch 184/200\n",
            "3/3 [==============================] - 0s 9ms/step - loss: 9.3364 - mae: 9.3364\n",
            "Epoch 185/200\n",
            "3/3 [==============================] - 0s 6ms/step - loss: 10.3683 - mae: 10.3683\n",
            "Epoch 186/200\n",
            "3/3 [==============================] - 0s 7ms/step - loss: 9.1052 - mae: 9.1052\n",
            "Epoch 187/200\n",
            "3/3 [==============================] - 0s 5ms/step - loss: 10.1709 - mae: 10.1709\n",
            "Epoch 188/200\n",
            "3/3 [==============================] - 0s 6ms/step - loss: 7.1252 - mae: 7.1252\n",
            "Epoch 189/200\n",
            "3/3 [==============================] - 0s 5ms/step - loss: 9.1301 - mae: 9.1301\n",
            "Epoch 190/200\n",
            "3/3 [==============================] - 0s 6ms/step - loss: 10.5061 - mae: 10.5061\n",
            "Epoch 191/200\n",
            "3/3 [==============================] - 0s 6ms/step - loss: 9.0190 - mae: 9.0190\n",
            "Epoch 192/200\n",
            "3/3 [==============================] - 0s 4ms/step - loss: 10.5014 - mae: 10.5014\n",
            "Epoch 193/200\n",
            "3/3 [==============================] - 0s 5ms/step - loss: 8.8065 - mae: 8.8065\n",
            "Epoch 194/200\n",
            "3/3 [==============================] - 0s 5ms/step - loss: 8.4674 - mae: 8.4674\n",
            "Epoch 195/200\n",
            "3/3 [==============================] - 0s 7ms/step - loss: 6.7169 - mae: 6.7169\n",
            "Epoch 196/200\n",
            "3/3 [==============================] - 0s 5ms/step - loss: 6.7425 - mae: 6.7425\n",
            "Epoch 197/200\n",
            "3/3 [==============================] - 0s 4ms/step - loss: 7.5962 - mae: 7.5962\n",
            "Epoch 198/200\n",
            "3/3 [==============================] - 0s 6ms/step - loss: 10.5171 - mae: 10.5171\n",
            "Epoch 199/200\n",
            "3/3 [==============================] - 0s 5ms/step - loss: 10.4939 - mae: 10.4939\n",
            "Epoch 200/200\n",
            "3/3 [==============================] - 0s 5ms/step - loss: 10.5766 - mae: 10.5766\n"
          ]
        }
      ]
    },
    {
      "cell_type": "code",
      "source": [
        "model_03.evaluate(X_test , y_test)"
      ],
      "metadata": {
        "colab": {
          "base_uri": "https://localhost:8080/"
        },
        "id": "dHSQ9e9cM8UT",
        "outputId": "72095e6f-ff0b-4268-db27-dfc9a04394dd"
      },
      "execution_count": null,
      "outputs": [
        {
          "output_type": "stream",
          "name": "stdout",
          "text": [
            "1/1 [==============================] - 0s 90ms/step - loss: 19.8237 - mae: 19.8237\n"
          ]
        },
        {
          "output_type": "execute_result",
          "data": {
            "text/plain": [
              "[19.823699951171875, 19.823699951171875]"
            ]
          },
          "metadata": {},
          "execution_count": 204
        }
      ]
    },
    {
      "cell_type": "code",
      "source": [
        "# plotting the loss curves of model_03\n",
        "\n",
        "pd.DataFrame(history.history).plot()\n",
        "plt.ylabel(\"loss\")\n",
        "plt.xlabel(\"epochs\");"
      ],
      "metadata": {
        "colab": {
          "base_uri": "https://localhost:8080/",
          "height": 279
        },
        "id": "pWTxOhnINFBh",
        "outputId": "a793c6ea-609a-4277-b3ef-ecde06617942"
      },
      "execution_count": null,
      "outputs": [
        {
          "output_type": "display_data",
          "data": {
            "text/plain": [
              "<Figure size 432x288 with 1 Axes>"
            ],
            "image/png": "[encoded data removed]"
          },
          "metadata": {
            "needs_background": "light"
          }
        }
      ]
    },
    {
      "cell_type": "markdown",
      "source": [
        "###model_04"
      ],
      "metadata": {
        "id": "HSkY2VTxNZ9G"
      }
    },
    {
      "cell_type": "code",
      "source": [
        "tf.random.set_seed(42)\n",
        "\n",
        "model_04 = tf.keras.Sequential([\n",
        "    tf.keras.layers.Dense(100),\n",
        "    tf.keras.layers.Dense(10),\n",
        "    tf.keras.layers.Dense(1)\n",
        "])\n",
        "\n",
        "model_04.compile(loss = tf.keras.losses.mae,\n",
        "                 optimizer = tf.keras.optimizers.Adam(),\n",
        "                 metrics=[\"mae\"])\n",
        "\n",
        "history = model_04.fit(X_train , y_train , epochs = 150)"
      ],
      "metadata": {
        "colab": {
          "base_uri": "https://localhost:8080/"
        },
        "id": "tBrcYPEYNrcy",
        "outputId": "41b41c30-c41f-43ef-a194-b758bbcdba17"
      },
      "execution_count": null,
      "outputs": [
        {
          "output_type": "stream",
          "name": "stdout",
          "text": [
            "Epoch 1/150\n",
            "3/3 [==============================] - 0s 5ms/step - loss: 34.9919 - mae: 34.9919\n",
            "Epoch 2/150\n",
            "3/3 [==============================] - 0s 5ms/step - loss: 14.4890 - mae: 14.4890\n",
            "Epoch 3/150\n",
            "3/3 [==============================] - 0s 6ms/step - loss: 12.4470 - mae: 12.4470\n",
            "Epoch 4/150\n",
            "3/3 [==============================] - 0s 4ms/step - loss: 10.2813 - mae: 10.2813\n",
            "Epoch 5/150\n",
            "3/3 [==============================] - 0s 5ms/step - loss: 10.6612 - mae: 10.6612\n",
            "Epoch 6/150\n",
            "3/3 [==============================] - 0s 8ms/step - loss: 8.1809 - mae: 8.1809\n",
            "Epoch 7/150\n",
            "3/3 [==============================] - 0s 8ms/step - loss: 11.3997 - mae: 11.3997\n",
            "Epoch 8/150\n",
            "3/3 [==============================] - 0s 10ms/step - loss: 7.7359 - mae: 7.7359\n",
            "Epoch 9/150\n",
            "3/3 [==============================] - 0s 7ms/step - loss: 11.4525 - mae: 11.4525\n",
            "Epoch 10/150\n",
            "3/3 [==============================] - 0s 9ms/step - loss: 8.6412 - mae: 8.6412\n",
            "Epoch 11/150\n",
            "3/3 [==============================] - 0s 6ms/step - loss: 11.1604 - mae: 11.1604\n",
            "Epoch 12/150\n",
            "3/3 [==============================] - 0s 10ms/step - loss: 12.9963 - mae: 12.9963\n",
            "Epoch 13/150\n",
            "3/3 [==============================] - 0s 5ms/step - loss: 9.6716 - mae: 9.6716\n",
            "Epoch 14/150\n",
            "3/3 [==============================] - 0s 8ms/step - loss: 9.5833 - mae: 9.5833\n",
            "Epoch 15/150\n",
            "3/3 [==============================] - 0s 5ms/step - loss: 12.4004 - mae: 12.4004\n",
            "Epoch 16/150\n",
            "3/3 [==============================] - 0s 5ms/step - loss: 7.9677 - mae: 7.9677\n",
            "Epoch 17/150\n",
            "3/3 [==============================] - 0s 6ms/step - loss: 7.0010 - mae: 7.0010\n",
            "Epoch 18/150\n",
            "3/3 [==============================] - 0s 6ms/step - loss: 8.0526 - mae: 8.0526\n",
            "Epoch 19/150\n",
            "3/3 [==============================] - 0s 6ms/step - loss: 9.8934 - mae: 9.8934\n",
            "Epoch 20/150\n",
            "3/3 [==============================] - 0s 7ms/step - loss: 11.0927 - mae: 11.0927\n",
            "Epoch 21/150\n",
            "3/3 [==============================] - 0s 6ms/step - loss: 10.3361 - mae: 10.3361\n",
            "Epoch 22/150\n",
            "3/3 [==============================] - 0s 8ms/step - loss: 9.9601 - mae: 9.9601\n",
            "Epoch 23/150\n",
            "3/3 [==============================] - 0s 6ms/step - loss: 8.0515 - mae: 8.0515\n",
            "Epoch 24/150\n",
            "3/3 [==============================] - 0s 9ms/step - loss: 6.9578 - mae: 6.9578\n",
            "Epoch 25/150\n",
            "3/3 [==============================] - 0s 8ms/step - loss: 6.6206 - mae: 6.6206\n",
            "Epoch 26/150\n",
            "3/3 [==============================] - 0s 7ms/step - loss: 6.7000 - mae: 6.7000\n",
            "Epoch 27/150\n",
            "3/3 [==============================] - 0s 7ms/step - loss: 7.0787 - mae: 7.0787\n",
            "Epoch 28/150\n",
            "3/3 [==============================] - 0s 10ms/step - loss: 8.0960 - mae: 8.0960\n",
            "Epoch 29/150\n",
            "3/3 [==============================] - 0s 8ms/step - loss: 8.7407 - mae: 8.7407\n",
            "Epoch 30/150\n",
            "3/3 [==============================] - 0s 5ms/step - loss: 7.7230 - mae: 7.7230\n",
            "Epoch 31/150\n",
            "3/3 [==============================] - 0s 4ms/step - loss: 6.6893 - mae: 6.6893\n",
            "Epoch 32/150\n",
            "3/3 [==============================] - 0s 7ms/step - loss: 6.6824 - mae: 6.6824\n",
            "Epoch 33/150\n",
            "3/3 [==============================] - 0s 10ms/step - loss: 6.7976 - mae: 6.7976\n",
            "Epoch 34/150\n",
            "3/3 [==============================] - 0s 10ms/step - loss: 6.4334 - mae: 6.4334\n",
            "Epoch 35/150\n",
            "3/3 [==============================] - 0s 11ms/step - loss: 6.6808 - mae: 6.6808\n",
            "Epoch 36/150\n",
            "3/3 [==============================] - 0s 11ms/step - loss: 6.2667 - mae: 6.2667\n",
            "Epoch 37/150\n",
            "3/3 [==============================] - 0s 6ms/step - loss: 6.5493 - mae: 6.5493\n",
            "Epoch 38/150\n",
            "3/3 [==============================] - 0s 8ms/step - loss: 7.2726 - mae: 7.2726\n",
            "Epoch 39/150\n",
            "3/3 [==============================] - 0s 7ms/step - loss: 7.6931 - mae: 7.6931\n",
            "Epoch 40/150\n",
            "3/3 [==============================] - 0s 7ms/step - loss: 6.9330 - mae: 6.9330\n",
            "Epoch 41/150\n",
            "3/3 [==============================] - 0s 5ms/step - loss: 6.8428 - mae: 6.8428\n",
            "Epoch 42/150\n",
            "3/3 [==============================] - 0s 6ms/step - loss: 6.9096 - mae: 6.9096\n",
            "Epoch 43/150\n",
            "3/3 [==============================] - 0s 8ms/step - loss: 7.6459 - mae: 7.6459\n",
            "Epoch 44/150\n",
            "3/3 [==============================] - 0s 6ms/step - loss: 10.3329 - mae: 10.3329\n",
            "Epoch 45/150\n",
            "3/3 [==============================] - 0s 5ms/step - loss: 8.5686 - mae: 8.5686\n",
            "Epoch 46/150\n",
            "3/3 [==============================] - 0s 9ms/step - loss: 8.4027 - mae: 8.4027\n",
            "Epoch 47/150\n",
            "3/3 [==============================] - 0s 7ms/step - loss: 6.8262 - mae: 6.8262\n",
            "Epoch 48/150\n",
            "3/3 [==============================] - 0s 10ms/step - loss: 9.4319 - mae: 9.4319\n",
            "Epoch 49/150\n",
            "3/3 [==============================] - 0s 6ms/step - loss: 11.5824 - mae: 11.5824\n",
            "Epoch 50/150\n",
            "3/3 [==============================] - 0s 6ms/step - loss: 9.4874 - mae: 9.4874\n",
            "Epoch 51/150\n",
            "3/3 [==============================] - 0s 5ms/step - loss: 7.9601 - mae: 7.9601\n",
            "Epoch 52/150\n",
            "3/3 [==============================] - 0s 12ms/step - loss: 8.0688 - mae: 8.0688\n",
            "Epoch 53/150\n",
            "3/3 [==============================] - 0s 6ms/step - loss: 8.4109 - mae: 8.4109\n",
            "Epoch 54/150\n",
            "3/3 [==============================] - 0s 7ms/step - loss: 7.6810 - mae: 7.6810\n",
            "Epoch 55/150\n",
            "3/3 [==============================] - 0s 10ms/step - loss: 9.2066 - mae: 9.2066\n",
            "Epoch 56/150\n",
            "3/3 [==============================] - 0s 6ms/step - loss: 10.1562 - mae: 10.1562\n",
            "Epoch 57/150\n",
            "3/3 [==============================] - 0s 9ms/step - loss: 9.3849 - mae: 9.3849\n",
            "Epoch 58/150\n",
            "3/3 [==============================] - 0s 11ms/step - loss: 7.6054 - mae: 7.6054\n",
            "Epoch 59/150\n",
            "3/3 [==============================] - 0s 6ms/step - loss: 8.1474 - mae: 8.1474\n",
            "Epoch 60/150\n",
            "3/3 [==============================] - 0s 5ms/step - loss: 5.5581 - mae: 5.5581\n",
            "Epoch 61/150\n",
            "3/3 [==============================] - 0s 5ms/step - loss: 6.5177 - mae: 6.5177\n",
            "Epoch 62/150\n",
            "3/3 [==============================] - 0s 5ms/step - loss: 8.5781 - mae: 8.5781\n",
            "Epoch 63/150\n",
            "3/3 [==============================] - 0s 9ms/step - loss: 7.6387 - mae: 7.6387\n",
            "Epoch 64/150\n",
            "3/3 [==============================] - 0s 10ms/step - loss: 6.7753 - mae: 6.7753\n",
            "Epoch 65/150\n",
            "3/3 [==============================] - 0s 5ms/step - loss: 7.8338 - mae: 7.8338\n",
            "Epoch 66/150\n",
            "3/3 [==============================] - 0s 5ms/step - loss: 7.9355 - mae: 7.9355\n",
            "Epoch 67/150\n",
            "3/3 [==============================] - 0s 5ms/step - loss: 6.1401 - mae: 6.1401\n",
            "Epoch 68/150\n",
            "3/3 [==============================] - 0s 14ms/step - loss: 8.3681 - mae: 8.3681\n",
            "Epoch 69/150\n",
            "3/3 [==============================] - 0s 5ms/step - loss: 7.3176 - mae: 7.3176\n",
            "Epoch 70/150\n",
            "3/3 [==============================] - 0s 10ms/step - loss: 7.8572 - mae: 7.8572\n",
            "Epoch 71/150\n",
            "3/3 [==============================] - 0s 5ms/step - loss: 6.0365 - mae: 6.0365\n",
            "Epoch 72/150\n",
            "3/3 [==============================] - 0s 9ms/step - loss: 6.5988 - mae: 6.5988\n",
            "Epoch 73/150\n",
            "3/3 [==============================] - 0s 11ms/step - loss: 6.3825 - mae: 6.3825\n",
            "Epoch 74/150\n",
            "3/3 [==============================] - 0s 6ms/step - loss: 5.8627 - mae: 5.8627\n",
            "Epoch 75/150\n",
            "3/3 [==============================] - 0s 6ms/step - loss: 5.4441 - mae: 5.4441\n",
            "Epoch 76/150\n",
            "3/3 [==============================] - 0s 5ms/step - loss: 6.3844 - mae: 6.3844\n",
            "Epoch 77/150\n",
            "3/3 [==============================] - 0s 5ms/step - loss: 7.0554 - mae: 7.0554\n",
            "Epoch 78/150\n",
            "3/3 [==============================] - 0s 5ms/step - loss: 8.7859 - mae: 8.7859\n",
            "Epoch 79/150\n",
            "3/3 [==============================] - 0s 5ms/step - loss: 7.0088 - mae: 7.0088\n",
            "Epoch 80/150\n",
            "3/3 [==============================] - 0s 10ms/step - loss: 10.2509 - mae: 10.2509\n",
            "Epoch 81/150\n",
            "3/3 [==============================] - 0s 9ms/step - loss: 7.9826 - mae: 7.9826\n",
            "Epoch 82/150\n",
            "3/3 [==============================] - 0s 5ms/step - loss: 8.0792 - mae: 8.0792\n",
            "Epoch 83/150\n",
            "3/3 [==============================] - 0s 8ms/step - loss: 7.6070 - mae: 7.6070\n",
            "Epoch 84/150\n",
            "3/3 [==============================] - 0s 5ms/step - loss: 8.1075 - mae: 8.1075\n",
            "Epoch 85/150\n",
            "3/3 [==============================] - 0s 4ms/step - loss: 8.8543 - mae: 8.8543\n",
            "Epoch 86/150\n",
            "3/3 [==============================] - 0s 4ms/step - loss: 8.4053 - mae: 8.4053\n",
            "Epoch 87/150\n",
            "3/3 [==============================] - 0s 11ms/step - loss: 5.8770 - mae: 5.8770\n",
            "Epoch 88/150\n",
            "3/3 [==============================] - 0s 8ms/step - loss: 5.4873 - mae: 5.4873\n",
            "Epoch 89/150\n",
            "3/3 [==============================] - 0s 9ms/step - loss: 6.6552 - mae: 6.6552\n",
            "Epoch 90/150\n",
            "3/3 [==============================] - 0s 7ms/step - loss: 7.4316 - mae: 7.4316\n",
            "Epoch 91/150\n",
            "3/3 [==============================] - 0s 8ms/step - loss: 8.5118 - mae: 8.5118\n",
            "Epoch 92/150\n",
            "3/3 [==============================] - 0s 9ms/step - loss: 8.0737 - mae: 8.0737\n",
            "Epoch 93/150\n",
            "3/3 [==============================] - 0s 16ms/step - loss: 6.7709 - mae: 6.7709\n",
            "Epoch 94/150\n",
            "3/3 [==============================] - 0s 5ms/step - loss: 7.3914 - mae: 7.3914\n",
            "Epoch 95/150\n",
            "3/3 [==============================] - 0s 11ms/step - loss: 6.5800 - mae: 6.5800\n",
            "Epoch 96/150\n",
            "3/3 [==============================] - 0s 5ms/step - loss: 7.4669 - mae: 7.4669\n",
            "Epoch 97/150\n",
            "3/3 [==============================] - 0s 5ms/step - loss: 7.3869 - mae: 7.3869\n",
            "Epoch 98/150\n",
            "3/3 [==============================] - 0s 4ms/step - loss: 5.9544 - mae: 5.9544\n",
            "Epoch 99/150\n",
            "3/3 [==============================] - 0s 10ms/step - loss: 5.9326 - mae: 5.9326\n",
            "Epoch 100/150\n",
            "3/3 [==============================] - 0s 6ms/step - loss: 7.6337 - mae: 7.6337\n",
            "Epoch 101/150\n",
            "3/3 [==============================] - 0s 10ms/step - loss: 9.0118 - mae: 9.0118\n",
            "Epoch 102/150\n",
            "3/3 [==============================] - 0s 5ms/step - loss: 9.3002 - mae: 9.3002\n",
            "Epoch 103/150\n",
            "3/3 [==============================] - 0s 8ms/step - loss: 12.6327 - mae: 12.6327\n",
            "Epoch 104/150\n",
            "3/3 [==============================] - 0s 7ms/step - loss: 7.7870 - mae: 7.7870\n",
            "Epoch 105/150\n",
            "3/3 [==============================] - 0s 12ms/step - loss: 9.1271 - mae: 9.1271\n",
            "Epoch 106/150\n",
            "3/3 [==============================] - 0s 6ms/step - loss: 9.9440 - mae: 9.9440\n",
            "Epoch 107/150\n",
            "3/3 [==============================] - 0s 14ms/step - loss: 8.5482 - mae: 8.5482\n",
            "Epoch 108/150\n",
            "3/3 [==============================] - 0s 10ms/step - loss: 7.3930 - mae: 7.3930\n",
            "Epoch 109/150\n",
            "3/3 [==============================] - 0s 7ms/step - loss: 6.7264 - mae: 6.7264\n",
            "Epoch 110/150\n",
            "3/3 [==============================] - 0s 7ms/step - loss: 7.2616 - mae: 7.2616\n",
            "Epoch 111/150\n",
            "3/3 [==============================] - 0s 7ms/step - loss: 7.9279 - mae: 7.9279\n",
            "Epoch 112/150\n",
            "3/3 [==============================] - 0s 6ms/step - loss: 7.0070 - mae: 7.0070\n",
            "Epoch 113/150\n",
            "3/3 [==============================] - 0s 9ms/step - loss: 7.8445 - mae: 7.8445\n",
            "Epoch 114/150\n",
            "3/3 [==============================] - 0s 9ms/step - loss: 9.5071 - mae: 9.5071\n",
            "Epoch 115/150\n",
            "3/3 [==============================] - 0s 10ms/step - loss: 6.3340 - mae: 6.3340\n",
            "Epoch 116/150\n",
            "3/3 [==============================] - 0s 7ms/step - loss: 7.2140 - mae: 7.2140\n",
            "Epoch 117/150\n",
            "3/3 [==============================] - 0s 7ms/step - loss: 9.2385 - mae: 9.2385\n",
            "Epoch 118/150\n",
            "3/3 [==============================] - 0s 7ms/step - loss: 8.2283 - mae: 8.2283\n",
            "Epoch 119/150\n",
            "3/3 [==============================] - 0s 6ms/step - loss: 8.9412 - mae: 8.9412\n",
            "Epoch 120/150\n",
            "3/3 [==============================] - 0s 8ms/step - loss: 9.0546 - mae: 9.0546\n",
            "Epoch 121/150\n",
            "3/3 [==============================] - 0s 10ms/step - loss: 7.5582 - mae: 7.5582\n",
            "Epoch 122/150\n",
            "3/3 [==============================] - 0s 7ms/step - loss: 8.0580 - mae: 8.0580\n",
            "Epoch 123/150\n",
            "3/3 [==============================] - 0s 9ms/step - loss: 6.3749 - mae: 6.3749\n",
            "Epoch 124/150\n",
            "3/3 [==============================] - 0s 7ms/step - loss: 6.4443 - mae: 6.4443\n",
            "Epoch 125/150\n",
            "3/3 [==============================] - 0s 6ms/step - loss: 6.8388 - mae: 6.8388\n",
            "Epoch 126/150\n",
            "3/3 [==============================] - 0s 7ms/step - loss: 6.8343 - mae: 6.8343\n",
            "Epoch 127/150\n",
            "3/3 [==============================] - 0s 5ms/step - loss: 8.3806 - mae: 8.3806\n",
            "Epoch 128/150\n",
            "3/3 [==============================] - 0s 5ms/step - loss: 7.1207 - mae: 7.1207\n",
            "Epoch 129/150\n",
            "3/3 [==============================] - 0s 6ms/step - loss: 8.3284 - mae: 8.3284\n",
            "Epoch 130/150\n",
            "3/3 [==============================] - 0s 6ms/step - loss: 8.8286 - mae: 8.8286\n",
            "Epoch 131/150\n",
            "3/3 [==============================] - 0s 6ms/step - loss: 9.0531 - mae: 9.0531\n",
            "Epoch 132/150\n",
            "3/3 [==============================] - 0s 5ms/step - loss: 6.0885 - mae: 6.0885\n",
            "Epoch 133/150\n",
            "3/3 [==============================] - 0s 6ms/step - loss: 5.7125 - mae: 5.7125\n",
            "Epoch 134/150\n",
            "3/3 [==============================] - 0s 14ms/step - loss: 6.4185 - mae: 6.4185\n",
            "Epoch 135/150\n",
            "3/3 [==============================] - 0s 11ms/step - loss: 7.5577 - mae: 7.5577\n",
            "Epoch 136/150\n",
            "3/3 [==============================] - 0s 10ms/step - loss: 6.4221 - mae: 6.4221\n",
            "Epoch 137/150\n",
            "3/3 [==============================] - 0s 15ms/step - loss: 5.3231 - mae: 5.3231\n",
            "Epoch 138/150\n",
            "3/3 [==============================] - 0s 6ms/step - loss: 6.7763 - mae: 6.7763\n",
            "Epoch 139/150\n",
            "3/3 [==============================] - 0s 5ms/step - loss: 8.2298 - mae: 8.2298\n",
            "Epoch 140/150\n",
            "3/3 [==============================] - 0s 6ms/step - loss: 6.4128 - mae: 6.4128\n",
            "Epoch 141/150\n",
            "3/3 [==============================] - 0s 5ms/step - loss: 6.1068 - mae: 6.1068\n",
            "Epoch 142/150\n",
            "3/3 [==============================] - 0s 4ms/step - loss: 6.0484 - mae: 6.0484\n",
            "Epoch 143/150\n",
            "3/3 [==============================] - 0s 8ms/step - loss: 7.5638 - mae: 7.5638\n",
            "Epoch 144/150\n",
            "3/3 [==============================] - 0s 6ms/step - loss: 7.1032 - mae: 7.1032\n",
            "Epoch 145/150\n",
            "3/3 [==============================] - 0s 5ms/step - loss: 6.6730 - mae: 6.6730\n",
            "Epoch 146/150\n",
            "3/3 [==============================] - 0s 4ms/step - loss: 6.3145 - mae: 6.3145\n",
            "Epoch 147/150\n",
            "3/3 [==============================] - 0s 7ms/step - loss: 7.3548 - mae: 7.3548\n",
            "Epoch 148/150\n",
            "3/3 [==============================] - 0s 6ms/step - loss: 6.8849 - mae: 6.8849\n",
            "Epoch 149/150\n",
            "3/3 [==============================] - 0s 4ms/step - loss: 8.5172 - mae: 8.5172\n",
            "Epoch 150/150\n",
            "3/3 [==============================] - 0s 7ms/step - loss: 10.4932 - mae: 10.4932\n"
          ]
        }
      ]
    },
    {
      "cell_type": "code",
      "source": [
        "model_04.evaluate(X_test , y_test)"
      ],
      "metadata": {
        "colab": {
          "base_uri": "https://localhost:8080/"
        },
        "id": "PkqQaoq5NyZt",
        "outputId": "e4b0746b-521e-4858-a181-8196a10c0920"
      },
      "execution_count": null,
      "outputs": [
        {
          "output_type": "stream",
          "name": "stdout",
          "text": [
            "1/1 [==============================] - 0s 228ms/step - loss: 5.5913 - mae: 5.5913\n"
          ]
        },
        {
          "output_type": "execute_result",
          "data": {
            "text/plain": [
              "[5.591343402862549, 5.591343402862549]"
            ]
          },
          "metadata": {},
          "execution_count": 207
        }
      ]
    },
    {
      "cell_type": "code",
      "source": [
        "#plotting the loss curve\n",
        "\n",
        "pd.DataFrame(history.history).plot()\n",
        "plt.ylabel(\"loss\")\n",
        "plt.xlabel(\"epochs\");"
      ],
      "metadata": {
        "colab": {
          "base_uri": "https://localhost:8080/",
          "height": 279
        },
        "id": "c8PkjLOlN-IG",
        "outputId": "568dd693-5aa2-45e0-b692-fb67fe400fec"
      },
      "execution_count": null,
      "outputs": [
        {
          "output_type": "display_data",
          "data": {
            "text/plain": [
              "<Figure size 432x288 with 1 Axes>"
            ],
            "image/png": "[encoded data removed]"
          },
          "metadata": {
            "needs_background": "light"
          }
        }
      ]
    },
    {
      "cell_type": "markdown",
      "source": [
        "###model_05"
      ],
      "metadata": {
        "id": "MTzAA1dMOFtm"
      }
    },
    {
      "cell_type": "code",
      "source": [
        "tf.random.set_seed(42)\n",
        "\n",
        "# Add an extra layer and increase number of units\n",
        "model_05 = tf.keras.Sequential([\n",
        "  tf.keras.layers.Dense(1000), # 1000 units\n",
        "  tf.keras.layers.Dense(100), # 100 units\n",
        "  tf.keras.layers.Dense(10), # 10 units\n",
        "  tf.keras.layers.Dense(1) # 1 unit (important for output layer)\n",
        "])\n",
        "\n",
        "# Compile the model\n",
        "model_05.compile(loss=tf.keras.losses.mae,\n",
        "                          optimizer=tf.keras.optimizers.Adam(), # Adam works but SGD doesn't \n",
        "                          metrics=['mae'])\n",
        "\n",
        "# Fit the model and save the history (we can plot this)\n",
        "model_05.fit(X_train, y_train, epochs=100)"
      ],
      "metadata": {
        "colab": {
          "base_uri": "https://localhost:8080/"
        },
        "id": "TfVE7r7sOidE",
        "outputId": "1c6c27c4-f0d6-4e0a-d167-c1c2ef57a162"
      },
      "execution_count": null,
      "outputs": [
        {
          "output_type": "stream",
          "name": "stdout",
          "text": [
            "Epoch 1/100\n",
            "3/3 [==============================] - 1s 12ms/step - loss: 243.2385 - mae: 243.2385\n",
            "Epoch 2/100\n",
            "3/3 [==============================] - 0s 8ms/step - loss: 247.6932 - mae: 247.6932\n",
            "Epoch 3/100\n",
            "3/3 [==============================] - 0s 7ms/step - loss: 119.0123 - mae: 119.0123\n",
            "Epoch 4/100\n",
            "3/3 [==============================] - 0s 6ms/step - loss: 127.4936 - mae: 127.4936\n",
            "Epoch 5/100\n",
            "3/3 [==============================] - 0s 7ms/step - loss: 91.3864 - mae: 91.3864\n",
            "Epoch 6/100\n",
            "3/3 [==============================] - 0s 6ms/step - loss: 69.4469 - mae: 69.4469\n",
            "Epoch 7/100\n",
            "3/3 [==============================] - 0s 5ms/step - loss: 46.2064 - mae: 46.2064\n",
            "Epoch 8/100\n",
            "3/3 [==============================] - 0s 10ms/step - loss: 90.0428 - mae: 90.0428\n",
            "Epoch 9/100\n",
            "3/3 [==============================] - 0s 7ms/step - loss: 51.1489 - mae: 51.1489\n",
            "Epoch 10/100\n",
            "3/3 [==============================] - 0s 5ms/step - loss: 32.7130 - mae: 32.7130\n",
            "Epoch 11/100\n",
            "3/3 [==============================] - 0s 6ms/step - loss: 28.3986 - mae: 28.3986\n",
            "Epoch 12/100\n",
            "3/3 [==============================] - 0s 6ms/step - loss: 28.2415 - mae: 28.2415\n",
            "Epoch 13/100\n",
            "3/3 [==============================] - 0s 5ms/step - loss: 18.3894 - mae: 18.3894\n",
            "Epoch 14/100\n",
            "3/3 [==============================] - 0s 12ms/step - loss: 10.0892 - mae: 10.0892\n",
            "Epoch 15/100\n",
            "3/3 [==============================] - 0s 5ms/step - loss: 14.0863 - mae: 14.0863\n",
            "Epoch 16/100\n",
            "3/3 [==============================] - 0s 5ms/step - loss: 13.0425 - mae: 13.0425\n",
            "Epoch 17/100\n",
            "3/3 [==============================] - 0s 10ms/step - loss: 13.8290 - mae: 13.8290\n",
            "Epoch 18/100\n",
            "3/3 [==============================] - 0s 7ms/step - loss: 29.0181 - mae: 29.0181\n",
            "Epoch 19/100\n",
            "3/3 [==============================] - 0s 5ms/step - loss: 20.7116 - mae: 20.7116\n",
            "Epoch 20/100\n",
            "3/3 [==============================] - 0s 6ms/step - loss: 19.5641 - mae: 19.5641\n",
            "Epoch 21/100\n",
            "3/3 [==============================] - 0s 6ms/step - loss: 20.1437 - mae: 20.1437\n",
            "Epoch 22/100\n",
            "3/3 [==============================] - 0s 6ms/step - loss: 14.6040 - mae: 14.6040\n",
            "Epoch 23/100\n",
            "3/3 [==============================] - 0s 4ms/step - loss: 13.3464 - mae: 13.3464\n",
            "Epoch 24/100\n",
            "3/3 [==============================] - 0s 5ms/step - loss: 12.7685 - mae: 12.7685\n",
            "Epoch 25/100\n",
            "3/3 [==============================] - 0s 8ms/step - loss: 12.1181 - mae: 12.1181\n",
            "Epoch 26/100\n",
            "3/3 [==============================] - 0s 4ms/step - loss: 15.2261 - mae: 15.2261\n",
            "Epoch 27/100\n",
            "3/3 [==============================] - 0s 5ms/step - loss: 13.0603 - mae: 13.0603\n",
            "Epoch 28/100\n",
            "3/3 [==============================] - 0s 6ms/step - loss: 11.1028 - mae: 11.1028\n",
            "Epoch 29/100\n",
            "3/3 [==============================] - 0s 8ms/step - loss: 11.3679 - mae: 11.3679\n",
            "Epoch 30/100\n",
            "3/3 [==============================] - 0s 8ms/step - loss: 19.7384 - mae: 19.7384\n",
            "Epoch 31/100\n",
            "3/3 [==============================] - 0s 6ms/step - loss: 7.6079 - mae: 7.6079\n",
            "Epoch 32/100\n",
            "3/3 [==============================] - 0s 8ms/step - loss: 7.0115 - mae: 7.0115\n",
            "Epoch 33/100\n",
            "3/3 [==============================] - 0s 6ms/step - loss: 9.0712 - mae: 9.0712\n",
            "Epoch 34/100\n",
            "3/3 [==============================] - 0s 9ms/step - loss: 12.8172 - mae: 12.8172\n",
            "Epoch 35/100\n",
            "3/3 [==============================] - 0s 8ms/step - loss: 14.7554 - mae: 14.7554\n",
            "Epoch 36/100\n",
            "3/3 [==============================] - 0s 5ms/step - loss: 15.7470 - mae: 15.7470\n",
            "Epoch 37/100\n",
            "3/3 [==============================] - 0s 5ms/step - loss: 16.3217 - mae: 16.3217\n",
            "Epoch 38/100\n",
            "3/3 [==============================] - 0s 8ms/step - loss: 11.4968 - mae: 11.4968\n",
            "Epoch 39/100\n",
            "3/3 [==============================] - 0s 7ms/step - loss: 12.1254 - mae: 12.1254\n",
            "Epoch 40/100\n",
            "3/3 [==============================] - 0s 10ms/step - loss: 11.6596 - mae: 11.6596\n",
            "Epoch 41/100\n",
            "3/3 [==============================] - 0s 7ms/step - loss: 11.4948 - mae: 11.4948\n",
            "Epoch 42/100\n",
            "3/3 [==============================] - 0s 16ms/step - loss: 13.5380 - mae: 13.5380\n",
            "Epoch 43/100\n",
            "3/3 [==============================] - 0s 5ms/step - loss: 10.2493 - mae: 10.2493\n",
            "Epoch 44/100\n",
            "3/3 [==============================] - 0s 11ms/step - loss: 8.2806 - mae: 8.2806\n",
            "Epoch 45/100\n",
            "3/3 [==============================] - 0s 8ms/step - loss: 7.2108 - mae: 7.2108\n",
            "Epoch 46/100\n",
            "3/3 [==============================] - 0s 6ms/step - loss: 13.4823 - mae: 13.4823\n",
            "Epoch 47/100\n",
            "3/3 [==============================] - 0s 5ms/step - loss: 10.9810 - mae: 10.9810\n",
            "Epoch 48/100\n",
            "3/3 [==============================] - 0s 6ms/step - loss: 14.4565 - mae: 14.4565\n",
            "Epoch 49/100\n",
            "3/3 [==============================] - 0s 6ms/step - loss: 13.1929 - mae: 13.1929\n",
            "Epoch 50/100\n",
            "3/3 [==============================] - 0s 5ms/step - loss: 11.2616 - mae: 11.2616\n",
            "Epoch 51/100\n",
            "3/3 [==============================] - 0s 7ms/step - loss: 15.9875 - mae: 15.9875\n",
            "Epoch 52/100\n",
            "3/3 [==============================] - 0s 6ms/step - loss: 12.4971 - mae: 12.4971\n",
            "Epoch 53/100\n",
            "3/3 [==============================] - 0s 6ms/step - loss: 16.8662 - mae: 16.8662\n",
            "Epoch 54/100\n",
            "3/3 [==============================] - 0s 6ms/step - loss: 22.3562 - mae: 22.3562\n",
            "Epoch 55/100\n",
            "3/3 [==============================] - 0s 6ms/step - loss: 20.4096 - mae: 20.4096\n",
            "Epoch 56/100\n",
            "3/3 [==============================] - 0s 6ms/step - loss: 14.5682 - mae: 14.5682\n",
            "Epoch 57/100\n",
            "3/3 [==============================] - 0s 6ms/step - loss: 10.0072 - mae: 10.0072\n",
            "Epoch 58/100\n",
            "3/3 [==============================] - 0s 7ms/step - loss: 10.8349 - mae: 10.8349\n",
            "Epoch 59/100\n",
            "3/3 [==============================] - 0s 7ms/step - loss: 8.9040 - mae: 8.9040\n",
            "Epoch 60/100\n",
            "3/3 [==============================] - 0s 6ms/step - loss: 10.6813 - mae: 10.6813\n",
            "Epoch 61/100\n",
            "3/3 [==============================] - 0s 6ms/step - loss: 11.4445 - mae: 11.4445\n",
            "Epoch 62/100\n",
            "3/3 [==============================] - 0s 6ms/step - loss: 8.9866 - mae: 8.9866\n",
            "Epoch 63/100\n",
            "3/3 [==============================] - 0s 7ms/step - loss: 12.5597 - mae: 12.5597\n",
            "Epoch 64/100\n",
            "3/3 [==============================] - 0s 5ms/step - loss: 9.3112 - mae: 9.3112\n",
            "Epoch 65/100\n",
            "3/3 [==============================] - 0s 7ms/step - loss: 11.6160 - mae: 11.6160\n",
            "Epoch 66/100\n",
            "3/3 [==============================] - 0s 6ms/step - loss: 12.7097 - mae: 12.7097\n",
            "Epoch 67/100\n",
            "3/3 [==============================] - 0s 9ms/step - loss: 10.5638 - mae: 10.5638\n",
            "Epoch 68/100\n",
            "3/3 [==============================] - 0s 7ms/step - loss: 13.4136 - mae: 13.4136\n",
            "Epoch 69/100\n",
            "3/3 [==============================] - 0s 6ms/step - loss: 10.8633 - mae: 10.8633\n",
            "Epoch 70/100\n",
            "3/3 [==============================] - 0s 5ms/step - loss: 7.0800 - mae: 7.0800\n",
            "Epoch 71/100\n",
            "3/3 [==============================] - 0s 8ms/step - loss: 13.1211 - mae: 13.1211\n",
            "Epoch 72/100\n",
            "3/3 [==============================] - 0s 9ms/step - loss: 10.1638 - mae: 10.1638\n",
            "Epoch 73/100\n",
            "3/3 [==============================] - 0s 8ms/step - loss: 11.2390 - mae: 11.2390\n",
            "Epoch 74/100\n",
            "3/3 [==============================] - 0s 6ms/step - loss: 16.5951 - mae: 16.5951\n",
            "Epoch 75/100\n",
            "3/3 [==============================] - 0s 9ms/step - loss: 11.7204 - mae: 11.7204\n",
            "Epoch 76/100\n",
            "3/3 [==============================] - 0s 9ms/step - loss: 13.0223 - mae: 13.0223\n",
            "Epoch 77/100\n",
            "3/3 [==============================] - 0s 8ms/step - loss: 7.7314 - mae: 7.7314\n",
            "Epoch 78/100\n",
            "3/3 [==============================] - 0s 6ms/step - loss: 8.1850 - mae: 8.1850\n",
            "Epoch 79/100\n",
            "3/3 [==============================] - 0s 5ms/step - loss: 7.5144 - mae: 7.5144\n",
            "Epoch 80/100\n",
            "3/3 [==============================] - 0s 7ms/step - loss: 8.2954 - mae: 8.2954\n",
            "Epoch 81/100\n",
            "3/3 [==============================] - 0s 6ms/step - loss: 7.1355 - mae: 7.1355\n",
            "Epoch 82/100\n",
            "3/3 [==============================] - 0s 8ms/step - loss: 8.8426 - mae: 8.8426\n",
            "Epoch 83/100\n",
            "3/3 [==============================] - 0s 9ms/step - loss: 11.5157 - mae: 11.5157\n",
            "Epoch 84/100\n",
            "3/3 [==============================] - 0s 6ms/step - loss: 10.0451 - mae: 10.0451\n",
            "Epoch 85/100\n",
            "3/3 [==============================] - 0s 6ms/step - loss: 11.0126 - mae: 11.0126\n",
            "Epoch 86/100\n",
            "3/3 [==============================] - 0s 6ms/step - loss: 8.7823 - mae: 8.7823\n",
            "Epoch 87/100\n",
            "3/3 [==============================] - 0s 4ms/step - loss: 10.1990 - mae: 10.1990\n",
            "Epoch 88/100\n",
            "3/3 [==============================] - 0s 7ms/step - loss: 11.3447 - mae: 11.3447\n",
            "Epoch 89/100\n",
            "3/3 [==============================] - 0s 8ms/step - loss: 10.7632 - mae: 10.7632\n",
            "Epoch 90/100\n",
            "3/3 [==============================] - 0s 8ms/step - loss: 12.5266 - mae: 12.5266\n",
            "Epoch 91/100\n",
            "3/3 [==============================] - 0s 11ms/step - loss: 13.4506 - mae: 13.4506\n",
            "Epoch 92/100\n",
            "3/3 [==============================] - 0s 8ms/step - loss: 16.5173 - mae: 16.5173\n",
            "Epoch 93/100\n",
            "3/3 [==============================] - 0s 16ms/step - loss: 15.8887 - mae: 15.8887\n",
            "Epoch 94/100\n",
            "3/3 [==============================] - 0s 5ms/step - loss: 19.0765 - mae: 19.0765\n",
            "Epoch 95/100\n",
            "3/3 [==============================] - 0s 7ms/step - loss: 13.9158 - mae: 13.9158\n",
            "Epoch 96/100\n",
            "3/3 [==============================] - 0s 7ms/step - loss: 12.4818 - mae: 12.4818\n",
            "Epoch 97/100\n",
            "3/3 [==============================] - 0s 5ms/step - loss: 13.9097 - mae: 13.9097\n",
            "Epoch 98/100\n",
            "3/3 [==============================] - 0s 9ms/step - loss: 12.7620 - mae: 12.7620\n",
            "Epoch 99/100\n",
            "3/3 [==============================] - 0s 8ms/step - loss: 9.5411 - mae: 9.5411\n",
            "Epoch 100/100\n",
            "3/3 [==============================] - 0s 8ms/step - loss: 6.7375 - mae: 6.7375\n"
          ]
        },
        {
          "output_type": "execute_result",
          "data": {
            "text/plain": [
              "<keras.callbacks.History at 0x7fcbec4634d0>"
            ]
          },
          "metadata": {},
          "execution_count": 209
        }
      ]
    },
    {
      "cell_type": "code",
      "source": [
        "model_05.evaluate(X_test , y_test)"
      ],
      "metadata": {
        "colab": {
          "base_uri": "https://localhost:8080/"
        },
        "id": "pZ4pa_MpO12g",
        "outputId": "35403f5d-a467-4948-fc43-c54a3a7f40ad"
      },
      "execution_count": null,
      "outputs": [
        {
          "output_type": "stream",
          "name": "stdout",
          "text": [
            "1/1 [==============================] - 0s 189ms/step - loss: 9.7062 - mae: 9.7062\n"
          ]
        },
        {
          "output_type": "execute_result",
          "data": {
            "text/plain": [
              "[9.706170082092285, 9.706170082092285]"
            ]
          },
          "metadata": {},
          "execution_count": 210
        }
      ]
    },
    {
      "cell_type": "code",
      "source": [
        "pd.DataFrame(history.history).plot()\n",
        "plt.ylabel(\"loss\")\n",
        "plt.xlabel(\"epochs\");"
      ],
      "metadata": {
        "colab": {
          "base_uri": "https://localhost:8080/",
          "height": 279
        },
        "id": "td_ZcvnZO9k3",
        "outputId": "8df29cf3-6141-488c-80a1-23e0b372ebed"
      },
      "execution_count": null,
      "outputs": [
        {
          "output_type": "display_data",
          "data": {
            "text/plain": [
              "<Figure size 432x288 with 1 Axes>"
            ],
            "image/png": "[encoded data removed]"
          },
          "metadata": {
            "needs_background": "light"
          }
        }
      ]
    },
    {
      "cell_type": "code",
      "source": [
        "tf.random.set_seed(42)\n",
        "\n",
        "# Add an extra layer and increase number of units\n",
        "model_06 = tf.keras.Sequential([\n",
        "  tf.keras.layers.Dense(1000), # 1000 units\n",
        "  tf.keras.layers.Dense(100), # 100 units\n",
        "  tf.keras.layers.Dense(10), # 10 units\n",
        "  tf.keras.layers.Dense(1) # 1 unit (important for output layer)\n",
        "])\n",
        "\n",
        "# Compile the model\n",
        "model_06.compile(loss=tf.keras.losses.mae,\n",
        "                          optimizer=tf.keras.optimizers.Adam(), # Adam works but SGD doesn't \n",
        "                          metrics=['mae'])\n",
        "\n",
        "# Fit the model and save the history (we can plot this)\n",
        "model_06.fit(X_train, y_train, epochs=1000 , verbose = 0)"
      ],
      "metadata": {
        "colab": {
          "base_uri": "https://localhost:8080/"
        },
        "id": "J9tA6dQ_PeKw",
        "outputId": "fde21e99-0b8e-4d93-de31-112db5a94ed3"
      },
      "execution_count": null,
      "outputs": [
        {
          "output_type": "execute_result",
          "data": {
            "text/plain": [
              "<keras.callbacks.History at 0x7fcbeb691350>"
            ]
          },
          "metadata": {},
          "execution_count": 212
        }
      ]
    },
    {
      "cell_type": "code",
      "source": [
        "model_06.evaluate(X_test , y_test)"
      ],
      "metadata": {
        "colab": {
          "base_uri": "https://localhost:8080/"
        },
        "id": "xBBz3gmGPs5a",
        "outputId": "505f126a-e91d-42b9-cda3-6ef233e9e3ef"
      },
      "execution_count": null,
      "outputs": [
        {
          "output_type": "stream",
          "name": "stdout",
          "text": [
            "1/1 [==============================] - 0s 173ms/step - loss: 5.2596 - mae: 5.2596\n"
          ]
        },
        {
          "output_type": "execute_result",
          "data": {
            "text/plain": [
              "[5.259592056274414, 5.259592056274414]"
            ]
          },
          "metadata": {},
          "execution_count": 213
        }
      ]
    },
    {
      "cell_type": "code",
      "source": [
        "tf.random.set_seed(42)\n",
        "\n",
        "# Add an extra layer and increase number of units\n",
        "model_07 = tf.keras.Sequential([\n",
        "  tf.keras.layers.Dense(10000), \n",
        "  tf.keras.layers.Dense(1000),\n",
        "  tf.keras.layers.Dense(100),  \n",
        "  tf.keras.layers.Dense(10), \n",
        "  tf.keras.layers.Dense(1) # 1 unit (important for output layer)\n",
        "])\n",
        "\n",
        "# Compile the model\n",
        "model_07.compile(loss=tf.keras.losses.mae,\n",
        "                          optimizer=tf.keras.optimizers.Adam(lr = 0.001), # Adam works but SGD doesn't \n",
        "                          metrics=['mae'])\n",
        "\n",
        "# Fit the model and save the history (we can plot this)\n",
        "history = model_07.fit(X_train, y_train, epochs=1000 , verbose = 0)"
      ],
      "metadata": {
        "colab": {
          "base_uri": "https://localhost:8080/"
        },
        "id": "yQ-ZyqK1Pn_T",
        "outputId": "0e2eb88b-8dd2-43d0-9110-9fcfb48fa962"
      },
      "execution_count": null,
      "outputs": [
        {
          "output_type": "stream",
          "name": "stderr",
          "text": [
            "/usr/local/lib/python3.7/dist-packages/keras/optimizers/optimizer_v2/adam.py:110: UserWarning: The `lr` argument is deprecated, use `learning_rate` instead.\n",
            "  super(Adam, self).__init__(name, **kwargs)\n"
          ]
        }
      ]
    },
    {
      "cell_type": "code",
      "source": [
        "model_07.evaluate(X_test , y_test)"
      ],
      "metadata": {
        "colab": {
          "base_uri": "https://localhost:8080/"
        },
        "id": "3alYOS60SWFX",
        "outputId": "8d0db058-0398-4083-9975-141d8fb9224b"
      },
      "execution_count": null,
      "outputs": [
        {
          "output_type": "stream",
          "name": "stdout",
          "text": [
            "1/1 [==============================] - 0s 99ms/step - loss: 4.5422 - mae: 4.5422\n"
          ]
        },
        {
          "output_type": "execute_result",
          "data": {
            "text/plain": [
              "[4.542191028594971, 4.542191028594971]"
            ]
          },
          "metadata": {},
          "execution_count": 215
        }
      ]
    },
    {
      "cell_type": "code",
      "source": [
        "pd.DataFrame(history.history).plot()\n",
        "plt.ylabel(\"loss\")\n",
        "plt.xlabel(\"epochs\");"
      ],
      "metadata": {
        "colab": {
          "base_uri": "https://localhost:8080/",
          "height": 279
        },
        "id": "HF_NjTrgS0Pe",
        "outputId": "7d9948db-d417-4927-9827-e7aea8ae00ea"
      },
      "execution_count": null,
      "outputs": [
        {
          "output_type": "display_data",
          "data": {
            "text/plain": [
              "<Figure size 432x288 with 1 Axes>"
            ],
            "image/png": "[encoded data removed]"
          },
          "metadata": {
            "needs_background": "light"
          }
        }
      ]
    },
    {
      "cell_type": "code",
      "source": [
        "# Set the random seed\n",
        "tf.random.set_seed(42)\n",
        "\n",
        "# Create the model\n",
        "model_08 = tf.keras.Sequential([\n",
        "  tf.keras.layers.Dense(1, activation=tf.keras.activations.linear), # 1 hidden layer with linear activation\n",
        "  tf.keras.layers.Dense(1000),\n",
        "  tf.keras.layers.Dense(100),\n",
        "  tf.keras.layers.Dense(10),\n",
        "  tf.keras.layers.Dense(1) # output layer\n",
        "])\n",
        "\n",
        "# Compile the model\n",
        "model_08.compile(loss=tf.keras.losses.mae,\n",
        "                optimizer=tf.keras.optimizers.Adam(learning_rate=0.001), # note: \"lr\" used to be what was used, now \"learning_rate\" is favoured\n",
        "                metrics=[\"mae\"])\n",
        "\n",
        "# Fit the model\n",
        "history = model_08.fit(X, y, epochs=1000 , verbose = 0)"
      ],
      "metadata": {
        "id": "KrWr3ewUUe5S"
      },
      "execution_count": null,
      "outputs": []
    },
    {
      "cell_type": "code",
      "source": [
        "model_08.evaluate(X_test , y_test)"
      ],
      "metadata": {
        "colab": {
          "base_uri": "https://localhost:8080/"
        },
        "id": "uOEiAeynVYfZ",
        "outputId": "e05e95e4-a858-4421-ac37-fca6fc673ac3"
      },
      "execution_count": null,
      "outputs": [
        {
          "output_type": "stream",
          "name": "stdout",
          "text": [
            "1/1 [==============================] - 0s 95ms/step - loss: 3.0563 - mae: 3.0563\n"
          ]
        },
        {
          "output_type": "execute_result",
          "data": {
            "text/plain": [
              "[3.056285858154297, 3.056285858154297]"
            ]
          },
          "metadata": {},
          "execution_count": 218
        }
      ]
    },
    {
      "cell_type": "markdown",
      "source": [
        "###Normalizing the data converting each and every value between 0 and 1"
      ],
      "metadata": {
        "id": "4NxwsY4lcHFO"
      }
    },
    {
      "cell_type": "code",
      "source": [
        "from sklearn.compose import make_column_transformer\n",
        "from sklearn.preprocessing import MinMaxScaler, OneHotEncoder\n",
        "\n",
        "ct = make_column_transformer(\n",
        "    (MinMaxScaler(), [\"latitude\", \"altitude\", \"precipitation\", \"humidity\", \"windspeed\"])\n",
        ")\n",
        "\n",
        "X = project01.drop(\"temperature\", axis = 1)\n",
        "y = project01[\"temperature\"]\n",
        "\n",
        "X_train, X_test, y_train, y_test = train_test_split(X, y, test_size=0.2, random_state=42)\n",
        "\n",
        "ct.fit(X_train) #fitting the data\n",
        "\n",
        "X_train_normal = ct.transform(X_train)\n",
        "X_test_normal = ct.transform(X_test)\n"
      ],
      "metadata": {
        "id": "78Du9LXCVgn2"
      },
      "execution_count": null,
      "outputs": []
    },
    {
      "cell_type": "code",
      "source": [
        "X_train_normal[0]"
      ],
      "metadata": {
        "colab": {
          "base_uri": "https://localhost:8080/"
        },
        "id": "F7r5tBa9dKDt",
        "outputId": "80bbd92c-12a9-4b9d-9892-350537b8c00a"
      },
      "execution_count": null,
      "outputs": [
        {
          "output_type": "execute_result",
          "data": {
            "text/plain": [
              "array([0.85966469, 0.05375408, 0.22197991, 0.56862745, 0.04255319])"
            ]
          },
          "metadata": {},
          "execution_count": 220
        }
      ]
    },
    {
      "cell_type": "code",
      "source": [
        "# Set random seed\n",
        "tf.random.set_seed(42)\n",
        "\n",
        "# Build the model (3 layers, 100, 10, 1 units)\n",
        "model_09 = tf.keras.Sequential([\n",
        "  tf.keras.layers.Dense(100),\n",
        "  tf.keras.layers.Dense(10),\n",
        "  tf.keras.layers.Dense(1)\n",
        "])\n",
        "\n",
        "# Compile the model\n",
        "model_09.compile(loss=tf.keras.losses.mae,\n",
        "                          optimizer=tf.keras.optimizers.Adam(),\n",
        "                          metrics=['mae'])\n",
        "\n",
        "# Fit the model for 200 epochs (same as insurance_model_2)\n",
        "history = model_09.fit(X_train_normal, y_train, epochs=500, verbose=0) "
      ],
      "metadata": {
        "id": "DhB1FW0Mdn2J"
      },
      "execution_count": null,
      "outputs": []
    },
    {
      "cell_type": "code",
      "source": [
        "model_09.evaluate(X_test_normal , y_test)"
      ],
      "metadata": {
        "colab": {
          "base_uri": "https://localhost:8080/"
        },
        "id": "P8UyGlgMeAdm",
        "outputId": "54d9e811-cd40-41ab-ee35-2460b10a25d2"
      },
      "execution_count": null,
      "outputs": [
        {
          "output_type": "stream",
          "name": "stdout",
          "text": [
            "1/1 [==============================] - 0s 99ms/step - loss: 3.1406 - mae: 3.1406\n"
          ]
        },
        {
          "output_type": "execute_result",
          "data": {
            "text/plain": [
              "[3.140604019165039, 3.140604019165039]"
            ]
          },
          "metadata": {},
          "execution_count": 222
        }
      ]
    },
    {
      "cell_type": "code",
      "source": [
        "pd.DataFrame(history.history).plot()\n",
        "plt.ylabel(\"loss\")\n",
        "plt.xlabel(\"epochs\");"
      ],
      "metadata": {
        "colab": {
          "base_uri": "https://localhost:8080/",
          "height": 279
        },
        "id": "iBfTdDXbeERB",
        "outputId": "b73490a7-84e5-4230-c505-49eb00489e90"
      },
      "execution_count": null,
      "outputs": [
        {
          "output_type": "display_data",
          "data": {
            "text/plain": [
              "<Figure size 432x288 with 1 Axes>"
            ],
            "image/png": "[encoded data removed]"
          },
          "metadata": {
            "needs_background": "light"
          }
        }
      ]
    },
    {
      "cell_type": "markdown",
      "source": [
        "###model_10"
      ],
      "metadata": {
        "id": "Ei_pmj-nfjnW"
      }
    },
    {
      "cell_type": "code",
      "source": [
        "# Set random seed\n",
        "tf.random.set_seed(42)\n",
        "\n",
        "model_10 = tf.keras.Sequential([\n",
        "  tf.keras.layers.Dense(1000),\n",
        "  tf.keras.layers.Dense(100),\n",
        "  tf.keras.layers.Dense(10),\n",
        "  tf.keras.layers.Dense(1)\n",
        "])\n",
        "\n",
        "# Compile the model\n",
        "model_10.compile(loss=tf.keras.losses.mae,\n",
        "                          optimizer=tf.keras.optimizers.Adam(),\n",
        "                          metrics=['mae'])\n",
        "\n",
        "# Fit the model for 200 epochs (same as insurance_model_2)\n",
        "history = model_10.fit(X_train_normal, y_train, epochs=100)"
      ],
      "metadata": {
        "colab": {
          "base_uri": "https://localhost:8080/"
        },
        "id": "g6Ph3MyrfewY",
        "outputId": "5c53901e-9a6f-41a8-dfbe-fe5181aa8cb2"
      },
      "execution_count": null,
      "outputs": [
        {
          "output_type": "stream",
          "name": "stdout",
          "text": [
            "Epoch 1/100\n",
            "3/3 [==============================] - 0s 5ms/step - loss: 24.8971 - mae: 24.8971\n",
            "Epoch 2/100\n",
            "3/3 [==============================] - 0s 4ms/step - loss: 23.4034 - mae: 23.4034\n",
            "Epoch 3/100\n",
            "3/3 [==============================] - 0s 4ms/step - loss: 21.5738 - mae: 21.5738\n",
            "Epoch 4/100\n",
            "3/3 [==============================] - 0s 4ms/step - loss: 19.0794 - mae: 19.0794\n",
            "Epoch 5/100\n",
            "3/3 [==============================] - 0s 4ms/step - loss: 15.9195 - mae: 15.9195\n",
            "Epoch 6/100\n",
            "3/3 [==============================] - 0s 4ms/step - loss: 12.1966 - mae: 12.1966\n",
            "Epoch 7/100\n",
            "3/3 [==============================] - 0s 4ms/step - loss: 8.8540 - mae: 8.8540\n",
            "Epoch 8/100\n",
            "3/3 [==============================] - 0s 4ms/step - loss: 8.4955 - mae: 8.4955\n",
            "Epoch 9/100\n",
            "3/3 [==============================] - 0s 4ms/step - loss: 9.7018 - mae: 9.7018\n",
            "Epoch 10/100\n",
            "3/3 [==============================] - 0s 4ms/step - loss: 8.8831 - mae: 8.8831\n",
            "Epoch 11/100\n",
            "3/3 [==============================] - 0s 5ms/step - loss: 7.5760 - mae: 7.5760\n",
            "Epoch 12/100\n",
            "3/3 [==============================] - 0s 4ms/step - loss: 7.7841 - mae: 7.7841\n",
            "Epoch 13/100\n",
            "3/3 [==============================] - 0s 4ms/step - loss: 7.8606 - mae: 7.8606\n",
            "Epoch 14/100\n",
            "3/3 [==============================] - 0s 5ms/step - loss: 7.5333 - mae: 7.5333\n",
            "Epoch 15/100\n",
            "3/3 [==============================] - 0s 5ms/step - loss: 7.0975 - mae: 7.0975\n",
            "Epoch 16/100\n",
            "3/3 [==============================] - 0s 6ms/step - loss: 6.9787 - mae: 6.9787\n",
            "Epoch 17/100\n",
            "3/3 [==============================] - 0s 5ms/step - loss: 6.9393 - mae: 6.9393\n",
            "Epoch 18/100\n",
            "3/3 [==============================] - 0s 4ms/step - loss: 6.7069 - mae: 6.7069\n",
            "Epoch 19/100\n",
            "3/3 [==============================] - 0s 5ms/step - loss: 6.6515 - mae: 6.6515\n",
            "Epoch 20/100\n",
            "3/3 [==============================] - 0s 4ms/step - loss: 6.4715 - mae: 6.4715\n",
            "Epoch 21/100\n",
            "3/3 [==============================] - 0s 5ms/step - loss: 6.3374 - mae: 6.3374\n",
            "Epoch 22/100\n",
            "3/3 [==============================] - 0s 4ms/step - loss: 6.2747 - mae: 6.2747\n",
            "Epoch 23/100\n",
            "3/3 [==============================] - 0s 5ms/step - loss: 6.1711 - mae: 6.1711\n",
            "Epoch 24/100\n",
            "3/3 [==============================] - 0s 4ms/step - loss: 6.0840 - mae: 6.0840\n",
            "Epoch 25/100\n",
            "3/3 [==============================] - 0s 5ms/step - loss: 5.9719 - mae: 5.9719\n",
            "Epoch 26/100\n",
            "3/3 [==============================] - 0s 4ms/step - loss: 5.8310 - mae: 5.8310\n",
            "Epoch 27/100\n",
            "3/3 [==============================] - 0s 4ms/step - loss: 5.7529 - mae: 5.7529\n",
            "Epoch 28/100\n",
            "3/3 [==============================] - 0s 4ms/step - loss: 5.6138 - mae: 5.6138\n",
            "Epoch 29/100\n",
            "3/3 [==============================] - 0s 6ms/step - loss: 5.4991 - mae: 5.4991\n",
            "Epoch 30/100\n",
            "3/3 [==============================] - 0s 5ms/step - loss: 5.3820 - mae: 5.3820\n",
            "Epoch 31/100\n",
            "3/3 [==============================] - 0s 5ms/step - loss: 5.2540 - mae: 5.2540\n",
            "Epoch 32/100\n",
            "3/3 [==============================] - 0s 4ms/step - loss: 5.1175 - mae: 5.1175\n",
            "Epoch 33/100\n",
            "3/3 [==============================] - 0s 4ms/step - loss: 5.0059 - mae: 5.0059\n",
            "Epoch 34/100\n",
            "3/3 [==============================] - 0s 6ms/step - loss: 4.8923 - mae: 4.8923\n",
            "Epoch 35/100\n",
            "3/3 [==============================] - 0s 4ms/step - loss: 4.7780 - mae: 4.7780\n",
            "Epoch 36/100\n",
            "3/3 [==============================] - 0s 4ms/step - loss: 4.6734 - mae: 4.6734\n",
            "Epoch 37/100\n",
            "3/3 [==============================] - 0s 4ms/step - loss: 4.5679 - mae: 4.5679\n",
            "Epoch 38/100\n",
            "3/3 [==============================] - 0s 4ms/step - loss: 4.4699 - mae: 4.4699\n",
            "Epoch 39/100\n",
            "3/3 [==============================] - 0s 4ms/step - loss: 4.3642 - mae: 4.3642\n",
            "Epoch 40/100\n",
            "3/3 [==============================] - 0s 4ms/step - loss: 4.3063 - mae: 4.3063\n",
            "Epoch 41/100\n",
            "3/3 [==============================] - 0s 4ms/step - loss: 4.2422 - mae: 4.2422\n",
            "Epoch 42/100\n",
            "3/3 [==============================] - 0s 4ms/step - loss: 4.1998 - mae: 4.1998\n",
            "Epoch 43/100\n",
            "3/3 [==============================] - 0s 4ms/step - loss: 4.2484 - mae: 4.2484\n",
            "Epoch 44/100\n",
            "3/3 [==============================] - 0s 4ms/step - loss: 4.1263 - mae: 4.1263\n",
            "Epoch 45/100\n",
            "3/3 [==============================] - 0s 4ms/step - loss: 4.0748 - mae: 4.0748\n",
            "Epoch 46/100\n",
            "3/3 [==============================] - 0s 4ms/step - loss: 3.9612 - mae: 3.9612\n",
            "Epoch 47/100\n",
            "3/3 [==============================] - 0s 4ms/step - loss: 3.9036 - mae: 3.9036\n",
            "Epoch 48/100\n",
            "3/3 [==============================] - 0s 4ms/step - loss: 3.8792 - mae: 3.8792\n",
            "Epoch 49/100\n",
            "3/3 [==============================] - 0s 4ms/step - loss: 3.8282 - mae: 3.8282\n",
            "Epoch 50/100\n",
            "3/3 [==============================] - 0s 4ms/step - loss: 3.7735 - mae: 3.7735\n",
            "Epoch 51/100\n",
            "3/3 [==============================] - 0s 4ms/step - loss: 3.7396 - mae: 3.7396\n",
            "Epoch 52/100\n",
            "3/3 [==============================] - 0s 4ms/step - loss: 3.6998 - mae: 3.6998\n",
            "Epoch 53/100\n",
            "3/3 [==============================] - 0s 4ms/step - loss: 3.7159 - mae: 3.7159\n",
            "Epoch 54/100\n",
            "3/3 [==============================] - 0s 5ms/step - loss: 3.6132 - mae: 3.6132\n",
            "Epoch 55/100\n",
            "3/3 [==============================] - 0s 4ms/step - loss: 3.7148 - mae: 3.7148\n",
            "Epoch 56/100\n",
            "3/3 [==============================] - 0s 4ms/step - loss: 3.4844 - mae: 3.4844\n",
            "Epoch 57/100\n",
            "3/3 [==============================] - 0s 4ms/step - loss: 3.6656 - mae: 3.6656\n",
            "Epoch 58/100\n",
            "3/3 [==============================] - 0s 4ms/step - loss: 3.4237 - mae: 3.4237\n",
            "Epoch 59/100\n",
            "3/3 [==============================] - 0s 4ms/step - loss: 3.5504 - mae: 3.5504\n",
            "Epoch 60/100\n",
            "3/3 [==============================] - 0s 4ms/step - loss: 3.4518 - mae: 3.4518\n",
            "Epoch 61/100\n",
            "3/3 [==============================] - 0s 4ms/step - loss: 3.4778 - mae: 3.4778\n",
            "Epoch 62/100\n",
            "3/3 [==============================] - 0s 4ms/step - loss: 3.4015 - mae: 3.4015\n",
            "Epoch 63/100\n",
            "3/3 [==============================] - 0s 4ms/step - loss: 3.3773 - mae: 3.3773\n",
            "Epoch 64/100\n",
            "3/3 [==============================] - 0s 4ms/step - loss: 3.3374 - mae: 3.3374\n",
            "Epoch 65/100\n",
            "3/3 [==============================] - 0s 4ms/step - loss: 3.2425 - mae: 3.2425\n",
            "Epoch 66/100\n",
            "3/3 [==============================] - 0s 5ms/step - loss: 3.3009 - mae: 3.3009\n",
            "Epoch 67/100\n",
            "3/3 [==============================] - 0s 4ms/step - loss: 3.2076 - mae: 3.2076\n",
            "Epoch 68/100\n",
            "3/3 [==============================] - 0s 4ms/step - loss: 3.2121 - mae: 3.2121\n",
            "Epoch 69/100\n",
            "3/3 [==============================] - 0s 4ms/step - loss: 3.1975 - mae: 3.1975\n",
            "Epoch 70/100\n",
            "3/3 [==============================] - 0s 4ms/step - loss: 3.1778 - mae: 3.1778\n",
            "Epoch 71/100\n",
            "3/3 [==============================] - 0s 4ms/step - loss: 3.2399 - mae: 3.2399\n",
            "Epoch 72/100\n",
            "3/3 [==============================] - 0s 4ms/step - loss: 3.1684 - mae: 3.1684\n",
            "Epoch 73/100\n",
            "3/3 [==============================] - 0s 4ms/step - loss: 3.2451 - mae: 3.2451\n",
            "Epoch 74/100\n",
            "3/3 [==============================] - 0s 4ms/step - loss: 3.1851 - mae: 3.1851\n",
            "Epoch 75/100\n",
            "3/3 [==============================] - 0s 4ms/step - loss: 3.2581 - mae: 3.2581\n",
            "Epoch 76/100\n",
            "3/3 [==============================] - 0s 5ms/step - loss: 3.0759 - mae: 3.0759\n",
            "Epoch 77/100\n",
            "3/3 [==============================] - 0s 4ms/step - loss: 3.3664 - mae: 3.3664\n",
            "Epoch 78/100\n",
            "3/3 [==============================] - 0s 4ms/step - loss: 3.3652 - mae: 3.3652\n",
            "Epoch 79/100\n",
            "3/3 [==============================] - 0s 4ms/step - loss: 3.3548 - mae: 3.3548\n",
            "Epoch 80/100\n",
            "3/3 [==============================] - 0s 4ms/step - loss: 3.2846 - mae: 3.2846\n",
            "Epoch 81/100\n",
            "3/3 [==============================] - 0s 4ms/step - loss: 3.1825 - mae: 3.1825\n",
            "Epoch 82/100\n",
            "3/3 [==============================] - 0s 4ms/step - loss: 3.1853 - mae: 3.1853\n",
            "Epoch 83/100\n",
            "3/3 [==============================] - 0s 4ms/step - loss: 3.1235 - mae: 3.1235\n",
            "Epoch 84/100\n",
            "3/3 [==============================] - 0s 4ms/step - loss: 3.2182 - mae: 3.2182\n",
            "Epoch 85/100\n",
            "3/3 [==============================] - 0s 4ms/step - loss: 3.2289 - mae: 3.2289\n",
            "Epoch 86/100\n",
            "3/3 [==============================] - 0s 4ms/step - loss: 3.2125 - mae: 3.2125\n",
            "Epoch 87/100\n",
            "3/3 [==============================] - 0s 10ms/step - loss: 3.1423 - mae: 3.1423\n",
            "Epoch 88/100\n",
            "3/3 [==============================] - 0s 4ms/step - loss: 3.1138 - mae: 3.1138\n",
            "Epoch 89/100\n",
            "3/3 [==============================] - 0s 4ms/step - loss: 3.2708 - mae: 3.2708\n",
            "Epoch 90/100\n",
            "3/3 [==============================] - 0s 4ms/step - loss: 3.4337 - mae: 3.4337\n",
            "Epoch 91/100\n",
            "3/3 [==============================] - 0s 4ms/step - loss: 3.2910 - mae: 3.2910\n",
            "Epoch 92/100\n",
            "3/3 [==============================] - 0s 4ms/step - loss: 3.2325 - mae: 3.2325\n",
            "Epoch 93/100\n",
            "3/3 [==============================] - 0s 4ms/step - loss: 3.1507 - mae: 3.1507\n",
            "Epoch 94/100\n",
            "3/3 [==============================] - 0s 4ms/step - loss: 3.2211 - mae: 3.2211\n",
            "Epoch 95/100\n",
            "3/3 [==============================] - 0s 4ms/step - loss: 3.1989 - mae: 3.1989\n",
            "Epoch 96/100\n",
            "3/3 [==============================] - 0s 4ms/step - loss: 3.1266 - mae: 3.1266\n",
            "Epoch 97/100\n",
            "3/3 [==============================] - 0s 4ms/step - loss: 3.2412 - mae: 3.2412\n",
            "Epoch 98/100\n",
            "3/3 [==============================] - 0s 4ms/step - loss: 3.1415 - mae: 3.1415\n",
            "Epoch 99/100\n",
            "3/3 [==============================] - 0s 4ms/step - loss: 3.1361 - mae: 3.1361\n",
            "Epoch 100/100\n",
            "3/3 [==============================] - 0s 4ms/step - loss: 3.1204 - mae: 3.1204\n"
          ]
        }
      ]
    },
    {
      "cell_type": "code",
      "source": [
        "model_10.evaluate(X_test_normal , y_test)"
      ],
      "metadata": {
        "colab": {
          "base_uri": "https://localhost:8080/"
        },
        "id": "H9rLIoeDf6o1",
        "outputId": "7f07a338-5a0b-4892-ed2e-58b13ab30f61"
      },
      "execution_count": null,
      "outputs": [
        {
          "output_type": "stream",
          "name": "stdout",
          "text": [
            "1/1 [==============================] - 0s 99ms/step - loss: 3.1208 - mae: 3.1208\n"
          ]
        },
        {
          "output_type": "execute_result",
          "data": {
            "text/plain": [
              "[3.1208086013793945, 3.1208086013793945]"
            ]
          },
          "metadata": {},
          "execution_count": 225
        }
      ]
    },
    {
      "cell_type": "code",
      "source": [
        "pd.DataFrame(history.history).plot()\n",
        "plt.ylabel(\"loss\")\n",
        "plt.xlabel(\"epochs\");"
      ],
      "metadata": {
        "colab": {
          "base_uri": "https://localhost:8080/",
          "height": 279
        },
        "id": "Itpzcojhf3Wo",
        "outputId": "049128e2-ae4b-4363-9826-2e39e63b77af"
      },
      "execution_count": null,
      "outputs": [
        {
          "output_type": "display_data",
          "data": {
            "text/plain": [
              "<Figure size 432x288 with 1 Axes>"
            ],
            "image/png": "[encoded data removed]"
          },
          "metadata": {
            "needs_background": "light"
          }
        }
      ]
    },
    {
      "cell_type": "markdown",
      "source": [
        "###model_11"
      ],
      "metadata": {
        "id": "9ZUuNJuYgoy7"
      }
    },
    {
      "cell_type": "code",
      "source": [
        "# Set random seed\n",
        "tf.random.set_seed(42)\n",
        "\n",
        "model_11 = tf.keras.Sequential([\n",
        "  tf.keras.layers.Dense(100),\n",
        "  tf.keras.layers.Dense(100),\n",
        "#   tf.keras.layers.Dense(100),\n",
        "#   tf.keras.layers.Dense(10),\n",
        "  tf.keras.layers.Dense(10),\n",
        "  tf.keras.layers.Dense(10),\n",
        "  tf.keras.layers.Dense(1, activation = tf.keras.activations.relu)\n",
        "])\n",
        "\n",
        "# Compile the model\n",
        "model_11.compile(loss=tf.keras.losses.mae,\n",
        "                          optimizer=tf.keras.optimizers.Adam(lr=0.001),\n",
        "                          metrics=['mae'])\n",
        "\n",
        "# Fit the model for 200 epochs (same as insurance_model_2)\n",
        "history = model_11.fit(X_train_normal, y_train, epochs=500 , verbose=0)"
      ],
      "metadata": {
        "colab": {
          "base_uri": "https://localhost:8080/"
        },
        "id": "mbhgbyX3lj5Q",
        "outputId": "781ef831-795c-4190-dd9b-76ffbfa0f564"
      },
      "execution_count": null,
      "outputs": [
        {
          "output_type": "stream",
          "name": "stderr",
          "text": [
            "/usr/local/lib/python3.7/dist-packages/keras/optimizers/optimizer_v2/adam.py:110: UserWarning: The `lr` argument is deprecated, use `learning_rate` instead.\n",
            "  super(Adam, self).__init__(name, **kwargs)\n"
          ]
        }
      ]
    },
    {
      "cell_type": "code",
      "source": [
        "model_11.evaluate(X_test_normal , y_test)"
      ],
      "metadata": {
        "colab": {
          "base_uri": "https://localhost:8080/"
        },
        "id": "5npVo2CMmAmQ",
        "outputId": "85f7aefe-1aa9-4b7c-b9c2-5c498ec876c9"
      },
      "execution_count": null,
      "outputs": [
        {
          "output_type": "stream",
          "name": "stdout",
          "text": [
            "1/1 [==============================] - 0s 101ms/step - loss: 3.1438 - mae: 3.1438\n"
          ]
        },
        {
          "output_type": "execute_result",
          "data": {
            "text/plain": [
              "[3.1438114643096924, 3.1438114643096924]"
            ]
          },
          "metadata": {},
          "execution_count": 228
        }
      ]
    },
    {
      "cell_type": "code",
      "source": [
        "y_preds = model_08.predict(X_test)"
      ],
      "metadata": {
        "id": "QrHHCPf3oKoo",
        "colab": {
          "base_uri": "https://localhost:8080/"
        },
        "outputId": "d42e864e-9cc9-4284-c665-1af5fe5a19b7"
      },
      "execution_count": null,
      "outputs": [
        {
          "output_type": "stream",
          "name": "stdout",
          "text": [
            "1/1 [==============================] - 0s 47ms/step\n"
          ]
        }
      ]
    },
    {
      "cell_type": "code",
      "source": [
        "y_preds\n"
      ],
      "metadata": {
        "colab": {
          "base_uri": "https://localhost:8080/"
        },
        "id": "aJfSkaTWZVOX",
        "outputId": "a9edd2a5-0db2-492a-e127-da601a0e3a40"
      },
      "execution_count": null,
      "outputs": [
        {
          "output_type": "execute_result",
          "data": {
            "text/plain": [
              "array([[26.025763 ],\n",
              "       [13.200359 ],\n",
              "       [23.023794 ],\n",
              "       [25.394152 ],\n",
              "       [13.701297 ],\n",
              "       [28.017328 ],\n",
              "       [23.570196 ],\n",
              "       [24.69771  ],\n",
              "       [27.984365 ],\n",
              "       [15.533218 ],\n",
              "       [26.364172 ],\n",
              "       [23.497854 ],\n",
              "       [27.67272  ],\n",
              "       [25.201807 ],\n",
              "       [22.18501  ],\n",
              "       [ 3.5474102],\n",
              "       [34.788498 ],\n",
              "       [27.249762 ],\n",
              "       [19.183414 ],\n",
              "       [18.763369 ],\n",
              "       [27.80514  ],\n",
              "       [28.9994   ],\n",
              "       [27.775246 ],\n",
              "       [20.823753 ]], dtype=float32)"
            ]
          },
          "metadata": {},
          "execution_count": 252
        }
      ]
    },
    {
      "cell_type": "code",
      "source": [
        "y_test"
      ],
      "metadata": {
        "colab": {
          "base_uri": "https://localhost:8080/"
        },
        "id": "zYyfhK8wZYqn",
        "outputId": "0d69dcca-d0e2-432c-f1f9-92d310ea120f"
      },
      "execution_count": null,
      "outputs": [
        {
          "output_type": "execute_result",
          "data": {
            "text/plain": [
              "83     29.00\n",
              "4      10.80\n",
              "42     23.50\n",
              "40     25.40\n",
              "10     15.00\n",
              "47     20.88\n",
              "110    25.00\n",
              "36     24.05\n",
              "70     34.00\n",
              "11     24.46\n",
              "45     24.80\n",
              "26     23.80\n",
              "94     36.00\n",
              "53     24.44\n",
              "18     21.11\n",
              "0       5.00\n",
              "56     32.00\n",
              "85     31.00\n",
              "109    18.00\n",
              "100    23.00\n",
              "93     35.00\n",
              "88     32.00\n",
              "67     33.00\n",
              "12     22.00\n",
              "Name: temperature, dtype: float64"
            ]
          },
          "metadata": {},
          "execution_count": 253
        }
      ]
    },
    {
      "cell_type": "code",
      "source": [
        "X1 = project01[\"latitude\"]\n",
        "y = project01[\"temperature\"]"
      ],
      "metadata": {
        "id": "1chkE7lANXqP"
      },
      "execution_count": null,
      "outputs": []
    },
    {
      "cell_type": "code",
      "source": [
        "from sklearn.model_selection import train_test_split\n",
        "X1_train , X1_test , y_train , y_test = train_test_split(X1,\n",
        "                                                       y,\n",
        "                                                       test_size=0.2,\n",
        "                                                       random_state=42)"
      ],
      "metadata": {
        "id": "Rit8XNdgPg9o"
      },
      "execution_count": null,
      "outputs": []
    },
    {
      "cell_type": "code",
      "source": [
        "y_preds = model_08.predict(X_test)"
      ],
      "metadata": {
        "colab": {
          "base_uri": "https://localhost:8080/"
        },
        "id": "1T1lMdLHPnW0",
        "outputId": "486c0995-ec70-42b0-dd92-3e614d22be46"
      },
      "execution_count": null,
      "outputs": [
        {
          "output_type": "stream",
          "name": "stdout",
          "text": [
            "1/1 [==============================] - 0s 13ms/step\n"
          ]
        }
      ]
    },
    {
      "cell_type": "code",
      "source": [
        "def plot_predictions(train_data=X1_train, \n",
        "                     train_labels=y_train, \n",
        "                     test_data=X1_test, \n",
        "                     test_labels=y_test, \n",
        "                     predictions=y_preds):\n",
        "  \"\"\"\n",
        "  Plots training data, test data and compares predictions.\n",
        "  \"\"\"\n",
        "  plt.figure(figsize=(10, 7))\n",
        "  # Plot training data in blue\n",
        "#   plt.scatter(train_data, train_labels, c=\"b\", label=\"Training data\")\n",
        "  # Plot test data in green\n",
        "  plt.scatter(test_data, test_labels, c=\"g\", label=\"Testing data\")\n",
        "  # Plot the predictions in red (predictions were made on the test data)\n",
        "  plt.scatter(test_data, predictions, c=\"r\", label=\"Predictions\")\n",
        "  plt.xlabel(\"latitude\")\n",
        "  plt.ylabel(\"Temperature\")\n",
        "  # Show the legend\n",
        "  plt.legend();"
      ],
      "metadata": {
        "id": "gCuv9dRRQQCP"
      },
      "execution_count": null,
      "outputs": []
    },
    {
      "cell_type": "code",
      "source": [
        "plot_predictions(train_data=X1_train,\n",
        "                 train_labels=y_train,\n",
        "                 test_data=X1_test,\n",
        "                 test_labels=y_test,\n",
        "                 predictions=y_preds)"
      ],
      "metadata": {
        "colab": {
          "base_uri": "https://localhost:8080/",
          "height": 442
        },
        "id": "E4CFCHHyRAAI",
        "outputId": "561d6b9e-6b59-4d11-8c6b-81de5899b89b"
      },
      "execution_count": null,
      "outputs": [
        {
          "output_type": "display_data",
          "data": {
            "text/plain": [
              "<Figure size 720x504 with 1 Axes>"
            ],
            "image/png": "[encoded data removed]"
          },
          "metadata": {
            "needs_background": "light"
          }
        }
      ]
    },
    {
      "cell_type": "code",
      "source": [
        "X2 = project01[\"altitude\"]\n",
        "y = project01[\"temperature\"]"
      ],
      "metadata": {
        "id": "XXcW9Ot6R8yr"
      },
      "execution_count": null,
      "outputs": []
    },
    {
      "cell_type": "code",
      "source": [
        "from sklearn.model_selection import train_test_split\n",
        "X2_train , X2_test , y_train , y_test = train_test_split(X2,\n",
        "                                                       y,\n",
        "                                                       test_size=0.2,\n",
        "                                                       random_state=42)"
      ],
      "metadata": {
        "id": "WQ23-4kfR-Pf"
      },
      "execution_count": null,
      "outputs": []
    },
    {
      "cell_type": "code",
      "source": [
        "def plot_predictions(train_data=X2_train, \n",
        "                     train_labels=y_train, \n",
        "                     test_data=X2_test, \n",
        "                     test_labels=y_test, \n",
        "                     predictions=y_preds):\n",
        "  \"\"\"\n",
        "  Plots training data, test data and compares predictions.\n",
        "  \"\"\"\n",
        "  plt.figure(figsize=(10, 7))\n",
        "  # Plot training data in blue\n",
        "#   plt.scatter(train_data, train_labels, c=\"b\", label=\"Training data\")\n",
        "  # Plot test data in green\n",
        "  plt.scatter(test_data, test_labels, c=\"g\", label=\"Testing data\")\n",
        "  # Plot the predictions in red (predictions were made on the test data)\n",
        "  plt.scatter(test_data, predictions, c=\"r\", label=\"Predictions\")\n",
        "  plt.xlabel(\"Altitude\")\n",
        "  plt.ylabel(\"Temperature\")\n",
        "  # Show the legend\n",
        "  plt.legend();"
      ],
      "metadata": {
        "id": "SRJdWOiyREVf"
      },
      "execution_count": null,
      "outputs": []
    },
    {
      "cell_type": "code",
      "source": [
        "plot_predictions(train_data=X2_train,\n",
        "                 train_labels=y_train,\n",
        "                 test_data=X2_test,\n",
        "                 test_labels=y_test,\n",
        "                 predictions=y_preds)"
      ],
      "metadata": {
        "colab": {
          "base_uri": "https://localhost:8080/",
          "height": 442
        },
        "id": "ONuEYEcbSRmj",
        "outputId": "2844190e-e7cf-4429-b381-8dc3a85cd4ef"
      },
      "execution_count": null,
      "outputs": [
        {
          "output_type": "display_data",
          "data": {
            "text/plain": [
              "<Figure size 720x504 with 1 Axes>"
            ],
            "image/png": "[encoded data removed]"
          },
          "metadata": {
            "needs_background": "light"
          }
        }
      ]
    },
    {
      "cell_type": "code",
      "source": [
        "X3 = project01[\"precipitation\"]\n",
        "y = project01[\"temperature\"]"
      ],
      "metadata": {
        "id": "QlpbkN-jSapS"
      },
      "execution_count": null,
      "outputs": []
    },
    {
      "cell_type": "code",
      "source": [
        "from sklearn.model_selection import train_test_split\n",
        "X3_train , X3_test , y_train , y_test = train_test_split(X3,\n",
        "                                                       y,\n",
        "                                                       test_size=0.2,\n",
        "                                                       random_state=42)"
      ],
      "metadata": {
        "id": "a9RC6PaHViV7"
      },
      "execution_count": null,
      "outputs": []
    },
    {
      "cell_type": "code",
      "source": [
        "def plot_predictions(train_data=X3_train, \n",
        "                     train_labels=y_train, \n",
        "                     test_data=X3_test, \n",
        "                     test_labels=y_test, \n",
        "                     predictions=y_preds):\n",
        "  \"\"\"\n",
        "  Plots training data, test data and compares predictions.\n",
        "  \"\"\"\n",
        "  plt.figure(figsize=(10, 7))\n",
        "  # Plot training data in blue\n",
        "#   plt.scatter(train_data, train_labels, c=\"b\", label=\"Training data\")\n",
        "  # Plot test data in green\n",
        "  plt.scatter(test_data, test_labels, c=\"g\", label=\"Testing data\")\n",
        "  # Plot the predictions in red (predictions were made on the test data)\n",
        "  plt.scatter(test_data, predictions, c=\"r\", label=\"Predictions\")\n",
        "  plt.xlabel(\"Precipitation\")\n",
        "  plt.ylabel(\"Temperature\")\n",
        "  # Show the legend\n",
        "  plt.legend();"
      ],
      "metadata": {
        "id": "vtO9xD9XVpa-"
      },
      "execution_count": null,
      "outputs": []
    },
    {
      "cell_type": "code",
      "source": [
        "plot_predictions(train_data=X3_train,\n",
        "                 train_labels=y_train,\n",
        "                 test_data=X3_test,\n",
        "                 test_labels=y_test,\n",
        "                 predictions=y_preds)"
      ],
      "metadata": {
        "colab": {
          "base_uri": "https://localhost:8080/",
          "height": 442
        },
        "id": "raJErm3JVxQV",
        "outputId": "2e9ca806-9bbe-4d4f-b7c5-3b732b3af334"
      },
      "execution_count": null,
      "outputs": [
        {
          "output_type": "display_data",
          "data": {
            "text/plain": [
              "<Figure size 720x504 with 1 Axes>"
            ],
            "image/png": "[encoded data removed]"
          },
          "metadata": {
            "needs_background": "light"
          }
        }
      ]
    },
    {
      "cell_type": "code",
      "source": [
        "X4 = project01[\"humidity\"]\n",
        "y = project01[\"temperature\"]"
      ],
      "metadata": {
        "id": "EApjIzBjV6RR"
      },
      "execution_count": null,
      "outputs": []
    },
    {
      "cell_type": "code",
      "source": [
        "from sklearn.model_selection import train_test_split\n",
        "X4_train , X4_test , y_train , y_test = train_test_split(X4,\n",
        "                                                       y,\n",
        "                                                       test_size=0.2,\n",
        "                                                       random_state=42)"
      ],
      "metadata": {
        "id": "vg05oHggWaTR"
      },
      "execution_count": null,
      "outputs": []
    },
    {
      "cell_type": "code",
      "source": [
        "def plot_predictions(train_data=X4_train, \n",
        "                     train_labels=y_train, \n",
        "                     test_data=X4_test, \n",
        "                     test_labels=y_test, \n",
        "                     predictions=y_preds):\n",
        "  \"\"\"\n",
        "  Plots training data, test data and compares predictions.\n",
        "  \"\"\"\n",
        "  plt.figure(figsize=(10, 7))\n",
        "  # Plot training data in blue\n",
        "#   plt.scatter(train_data, train_labels, c=\"b\", label=\"Training data\")\n",
        "  # Plot test data in green\n",
        "  plt.scatter(test_data, test_labels, c=\"g\", label=\"Testing data\")\n",
        "  # Plot the predictions in red (predictions were made on the test data)\n",
        "  plt.scatter(test_data, predictions, c=\"r\", label=\"Predictions\")\n",
        "  plt.xlabel(\"Humidity\")\n",
        "  plt.ylabel(\"Temperature\")\n",
        "  # Show the legend\n",
        "  plt.legend();"
      ],
      "metadata": {
        "id": "Dm8GChrHWfLI"
      },
      "execution_count": null,
      "outputs": []
    },
    {
      "cell_type": "code",
      "source": [
        "plot_predictions(train_data=X4_train,\n",
        "                 train_labels=y_train,\n",
        "                 test_data=X4_test,\n",
        "                 test_labels=y_test,\n",
        "                 predictions=y_preds)"
      ],
      "metadata": {
        "colab": {
          "base_uri": "https://localhost:8080/",
          "height": 442
        },
        "id": "DsBctmsUWkq-",
        "outputId": "a6ddfe9d-0bbd-474f-e3c0-c42ec716bb1f"
      },
      "execution_count": null,
      "outputs": [
        {
          "output_type": "display_data",
          "data": {
            "text/plain": [
              "<Figure size 720x504 with 1 Axes>"
            ],
            "image/png": "[encoded data removed]"
          },
          "metadata": {
            "needs_background": "light"
          }
        }
      ]
    },
    {
      "cell_type": "code",
      "source": [
        "X5 = project01[\"windspeed\"]\n",
        "y = project01[\"temperature\"]"
      ],
      "metadata": {
        "id": "EjgvqBWHWoF5"
      },
      "execution_count": null,
      "outputs": []
    },
    {
      "cell_type": "code",
      "source": [
        "from sklearn.model_selection import train_test_split\n",
        "X5_train , X5_test , y_train , y_test = train_test_split(X5,\n",
        "                                                       y,\n",
        "                                                       test_size=0.2,\n",
        "                                                       random_state=42)"
      ],
      "metadata": {
        "id": "n8ioudWZWtHd"
      },
      "execution_count": null,
      "outputs": []
    },
    {
      "cell_type": "code",
      "source": [
        "def plot_predictions(train_data=X5_train, \n",
        "                     train_labels=y_train, \n",
        "                     test_data=X5_test, \n",
        "                     test_labels=y_test, \n",
        "                     predictions=y_preds):\n",
        "  \"\"\"\n",
        "  Plots training data, test data and compares predictions.\n",
        "  \"\"\"\n",
        "  plt.figure(figsize=(10, 7))\n",
        "  # Plot training data in blue\n",
        "#   plt.scatter(train_data, train_labels, c=\"b\", label=\"Training data\")\n",
        "  # Plot test data in green\n",
        "  plt.scatter(test_data, test_labels, c=\"g\", label=\"Testing data\")\n",
        "  # Plot the predictions in red (predictions were made on the test data)\n",
        "  plt.scatter(test_data, predictions, c=\"r\", label=\"Predictions\")\n",
        "  plt.xlabel(\"WindSpeed\")\n",
        "  plt.ylabel(\"Temperature\")\n",
        "  # Show the legend\n",
        "  plt.legend();"
      ],
      "metadata": {
        "id": "L4Kzi77FWxSF"
      },
      "execution_count": null,
      "outputs": []
    },
    {
      "cell_type": "code",
      "source": [
        "plot_predictions(train_data=X5_train,\n",
        "                 train_labels=y_train,\n",
        "                 test_data=X5_test,\n",
        "                 test_labels=y_test,\n",
        "                 predictions=y_preds)"
      ],
      "metadata": {
        "colab": {
          "base_uri": "https://localhost:8080/",
          "height": 442
        },
        "id": "T8hO1W6sW6c1",
        "outputId": "4797659d-111c-4b70-8424-06d8868f1afd"
      },
      "execution_count": null,
      "outputs": [
        {
          "output_type": "display_data",
          "data": {
            "text/plain": [
              "<Figure size 720x504 with 1 Axes>"
            ],
            "image/png": "[encoded data removed]"
          },
          "metadata": {
            "needs_background": "light"
          }
        }
      ]
    },
    {
      "cell_type": "code",
      "source": [
        "import pandas as pd\n",
        "pd.DataFrame(y_preds,y_test)"
      ],
      "metadata": {
        "colab": {
          "base_uri": "https://localhost:8080/",
          "height": 833
        },
        "id": "EggS29FDXBUB",
        "outputId": "096bcb88-2f80-434a-e9ea-988308de4710"
      },
      "execution_count": null,
      "outputs": [
        {
          "output_type": "execute_result",
          "data": {
            "text/plain": [
              "                     0\n",
              "temperature           \n",
              "29.00        26.025763\n",
              "10.80        13.200359\n",
              "23.50        23.023794\n",
              "25.40        25.394152\n",
              "15.00        13.701297\n",
              "20.88        28.017328\n",
              "25.00        23.570196\n",
              "24.05        24.697710\n",
              "34.00        27.984365\n",
              "24.46        15.533218\n",
              "24.80        26.364172\n",
              "23.80        23.497854\n",
              "36.00        27.672720\n",
              "24.44        25.201807\n",
              "21.11        22.185011\n",
              "5.00          3.547410\n",
              "32.00        34.788498\n",
              "31.00        27.249762\n",
              "18.00        19.183414\n",
              "23.00        18.763369\n",
              "35.00        27.805140\n",
              "32.00        28.999399\n",
              "33.00        27.775246\n",
              "22.00        20.823753"
            ],
            "text/html": [
              "\n",
              "  <div id=\"df-b50c6dc0-1bd1-42cc-9fce-936ae773eabd\">\n",
              "    <div class=\"colab-df-container\">\n",
              "      <div>\n",
              "<style scoped>\n",
              "    .dataframe tbody tr th:only-of-type {\n",
              "        vertical-align: middle;\n",
              "    }\n",
              "\n",
              "    .dataframe tbody tr th {\n",
              "        vertical-align: top;\n",
              "    }\n",
              "\n",
              "    .dataframe thead th {\n",
              "        text-align: right;\n",
              "    }\n",
              "</style>\n",
              "<table border=\"1\" class=\"dataframe\">\n",
              "  <thead>\n",
              "    <tr style=\"text-align: right;\">\n",
              "      <th></th>\n",
              "      <th>0</th>\n",
              "    </tr>\n",
              "    <tr>\n",
              "      <th>temperature</th>\n",
              "      <th></th>\n",
              "    </tr>\n",
              "  </thead>\n",
              "  <tbody>\n",
              "    <tr>\n",
              "      <th>29.00</th>\n",
              "      <td>26.025763</td>\n",
              "    </tr>\n",
              "    <tr>\n",
              "      <th>10.80</th>\n",
              "      <td>13.200359</td>\n",
              "    </tr>\n",
              "    <tr>\n",
              "      <th>23.50</th>\n",
              "      <td>23.023794</td>\n",
              "    </tr>\n",
              "    <tr>\n",
              "      <th>25.40</th>\n",
              "      <td>25.394152</td>\n",
              "    </tr>\n",
              "    <tr>\n",
              "      <th>15.00</th>\n",
              "      <td>13.701297</td>\n",
              "    </tr>\n",
              "    <tr>\n",
              "      <th>20.88</th>\n",
              "      <td>28.017328</td>\n",
              "    </tr>\n",
              "    <tr>\n",
              "      <th>25.00</th>\n",
              "      <td>23.570196</td>\n",
              "    </tr>\n",
              "    <tr>\n",
              "      <th>24.05</th>\n",
              "      <td>24.697710</td>\n",
              "    </tr>\n",
              "    <tr>\n",
              "      <th>34.00</th>\n",
              "      <td>27.984365</td>\n",
              "    </tr>\n",
              "    <tr>\n",
              "      <th>24.46</th>\n",
              "      <td>15.533218</td>\n",
              "    </tr>\n",
              "    <tr>\n",
              "      <th>24.80</th>\n",
              "      <td>26.364172</td>\n",
              "    </tr>\n",
              "    <tr>\n",
              "      <th>23.80</th>\n",
              "      <td>23.497854</td>\n",
              "    </tr>\n",
              "    <tr>\n",
              "      <th>36.00</th>\n",
              "      <td>27.672720</td>\n",
              "    </tr>\n",
              "    <tr>\n",
              "      <th>24.44</th>\n",
              "      <td>25.201807</td>\n",
              "    </tr>\n",
              "    <tr>\n",
              "      <th>21.11</th>\n",
              "      <td>22.185011</td>\n",
              "    </tr>\n",
              "    <tr>\n",
              "      <th>5.00</th>\n",
              "      <td>3.547410</td>\n",
              "    </tr>\n",
              "    <tr>\n",
              "      <th>32.00</th>\n",
              "      <td>34.788498</td>\n",
              "    </tr>\n",
              "    <tr>\n",
              "      <th>31.00</th>\n",
              "      <td>27.249762</td>\n",
              "    </tr>\n",
              "    <tr>\n",
              "      <th>18.00</th>\n",
              "      <td>19.183414</td>\n",
              "    </tr>\n",
              "    <tr>\n",
              "      <th>23.00</th>\n",
              "      <td>18.763369</td>\n",
              "    </tr>\n",
              "    <tr>\n",
              "      <th>35.00</th>\n",
              "      <td>27.805140</td>\n",
              "    </tr>\n",
              "    <tr>\n",
              "      <th>32.00</th>\n",
              "      <td>28.999399</td>\n",
              "    </tr>\n",
              "    <tr>\n",
              "      <th>33.00</th>\n",
              "      <td>27.775246</td>\n",
              "    </tr>\n",
              "    <tr>\n",
              "      <th>22.00</th>\n",
              "      <td>20.823753</td>\n",
              "    </tr>\n",
              "  </tbody>\n",
              "</table>\n",
              "</div>\n",
              "      <button class=\"colab-df-convert\" onclick=\"convertToInteractive('df-b50c6dc0-1bd1-42cc-9fce-936ae773eabd')\"\n",
              "              title=\"Convert this dataframe to an interactive table.\"\n",
              "              style=\"display:none;\">\n",
              "        \n",
              "  <svg xmlns=\"http://www.w3.org/2000/svg\" height=\"24px\"viewBox=\"0 0 24 24\"\n",
              "       width=\"24px\">\n",
              "    <path d=\"M0 0h24v24H0V0z\" fill=\"none\"/>\n",
              "    <path d=\"M18.56 5.44l.94 2.06.94-2.06 2.06-.94-2.06-.94-.94-2.06-.94 2.06-2.06.94zm-11 1L8.5 8.5l.94-2.06 2.06-.94-2.06-.94L8.5 2.5l-.94 2.06-2.06.94zm10 10l.94 2.06.94-2.06 2.06-.94-2.06-.94-.94-2.06-.94 2.06-2.06.94z\"/><path d=\"M17.41 7.96l-1.37-1.37c-.4-.4-.92-.59-1.43-.59-.52 0-1.04.2-1.43.59L10.3 9.45l-7.72 7.72c-.78.78-.78 2.05 0 2.83L4 21.41c.39.39.9.59 1.41.59.51 0 1.02-.2 1.41-.59l7.78-7.78 2.81-2.81c.8-.78.8-2.07 0-2.86zM5.41 20L4 18.59l7.72-7.72 1.47 1.35L5.41 20z\"/>\n",
              "  </svg>\n",
              "      </button>\n",
              "      \n",
              "  <style>\n",
              "    .colab-df-container {\n",
              "      display:flex;\n",
              "      flex-wrap:wrap;\n",
              "      gap: 12px;\n",
              "    }\n",
              "\n",
              "    .colab-df-convert {\n",
              "      background-color: #E8F0FE;\n",
              "      border: none;\n",
              "      border-radius: 50%;\n",
              "      cursor: pointer;\n",
              "      display: none;\n",
              "      fill: #1967D2;\n",
              "      height: 32px;\n",
              "      padding: 0 0 0 0;\n",
              "      width: 32px;\n",
              "    }\n",
              "\n",
              "    .colab-df-convert:hover {\n",
              "      background-color: #E2EBFA;\n",
              "      box-shadow: 0px 1px 2px rgba(60, 64, 67, 0.3), 0px 1px 3px 1px rgba(60, 64, 67, 0.15);\n",
              "      fill: #174EA6;\n",
              "    }\n",
              "\n",
              "    [theme=dark] .colab-df-convert {\n",
              "      background-color: #3B4455;\n",
              "      fill: #D2E3FC;\n",
              "    }\n",
              "\n",
              "    [theme=dark] .colab-df-convert:hover {\n",
              "      background-color: #434B5C;\n",
              "      box-shadow: 0px 1px 3px 1px rgba(0, 0, 0, 0.15);\n",
              "      filter: drop-shadow(0px 1px 2px rgba(0, 0, 0, 0.3));\n",
              "      fill: #FFFFFF;\n",
              "    }\n",
              "  </style>\n",
              "\n",
              "      <script>\n",
              "        const buttonEl =\n",
              "          document.querySelector('#df-b50c6dc0-1bd1-42cc-9fce-936ae773eabd button.colab-df-convert');\n",
              "        buttonEl.style.display =\n",
              "          google.colab.kernel.accessAllowed ? 'block' : 'none';\n",
              "\n",
              "        async function convertToInteractive(key) {\n",
              "          const element = document.querySelector('#df-b50c6dc0-1bd1-42cc-9fce-936ae773eabd');\n",
              "          const dataTable =\n",
              "            await google.colab.kernel.invokeFunction('convertToInteractive',\n",
              "                                                     [key], {});\n",
              "          if (!dataTable) return;\n",
              "\n",
              "          const docLinkHtml = 'Like what you see? Visit the ' +\n",
              "            '<a target=\"_blank\" href=https://colab.research.google.com/notebooks/data_table.ipynb>data table notebook</a>'\n",
              "            + ' to learn more about interactive tables.';\n",
              "          element.innerHTML = '';\n",
              "          dataTable['output_type'] = 'display_data';\n",
              "          await google.colab.output.renderOutput(dataTable, element);\n",
              "          const docLink = document.createElement('div');\n",
              "          docLink.innerHTML = docLinkHtml;\n",
              "          element.appendChild(docLink);\n",
              "        }\n",
              "      </script>\n",
              "    </div>\n",
              "  </div>\n",
              "  "
            ]
          },
          "metadata": {},
          "execution_count": 259
        }
      ]
    }
  ]
}